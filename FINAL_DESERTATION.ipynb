{
  "metadata": {
    "kernelspec": {
      "language": "python",
      "display_name": "Python 3",
      "name": "python3"
    },
    "language_info": {
      "name": "python",
      "version": "3.10.10",
      "mimetype": "text/x-python",
      "codemirror_mode": {
        "name": "ipython",
        "version": 3
      },
      "pygments_lexer": "ipython3",
      "nbconvert_exporter": "python",
      "file_extension": ".py"
    },
    "colab": {
      "provenance": []
    }
  },
  "nbformat_minor": 0,
  "nbformat": 4,
  "cells": [
    {
      "cell_type": "code",
      "source": [
        "# Data reading\n",
        "import pandas as pd\n",
        "import datetime as dt\n",
        "pd.set_option('display.max_columns', None)  # Show all columns in output\n",
        "pd.set_option('display.max_rows', None) # Show all rows in output\n",
        "df_=pd.read_csv(\"/kaggle/input/online-retail-ii-uci/online_retail_II.csv\")\n",
        "df=df_.copy()\n",
        "df.head()"
      ],
      "metadata": {
        "execution": {
          "iopub.status.busy": "2023-07-10T06:59:29.107982Z",
          "iopub.execute_input": "2023-07-10T06:59:29.109102Z",
          "iopub.status.idle": "2023-07-10T06:59:32.496495Z",
          "shell.execute_reply.started": "2023-07-10T06:59:29.109049Z",
          "shell.execute_reply": "2023-07-10T06:59:32.494994Z"
        },
        "trusted": true,
        "id": "0GwoPtF1z_qC",
        "outputId": "1802a3c5-d5c5-424b-b209-77c547120c7e"
      },
      "execution_count": null,
      "outputs": [
        {
          "execution_count": 1,
          "output_type": "execute_result",
          "data": {
            "text/plain": "  Invoice StockCode                          Description  Quantity  \\\n0  489434     85048  15CM CHRISTMAS GLASS BALL 20 LIGHTS        12   \n1  489434    79323P                   PINK CHERRY LIGHTS        12   \n2  489434    79323W                  WHITE CHERRY LIGHTS        12   \n3  489434     22041         RECORD FRAME 7\" SINGLE SIZE         48   \n4  489434     21232       STRAWBERRY CERAMIC TRINKET BOX        24   \n\n           InvoiceDate  Price  Customer ID         Country  \n0  2009-12-01 07:45:00   6.95      13085.0  United Kingdom  \n1  2009-12-01 07:45:00   6.75      13085.0  United Kingdom  \n2  2009-12-01 07:45:00   6.75      13085.0  United Kingdom  \n3  2009-12-01 07:45:00   2.10      13085.0  United Kingdom  \n4  2009-12-01 07:45:00   1.25      13085.0  United Kingdom  ",
            "text/html": "<div>\n<style scoped>\n    .dataframe tbody tr th:only-of-type {\n        vertical-align: middle;\n    }\n\n    .dataframe tbody tr th {\n        vertical-align: top;\n    }\n\n    .dataframe thead th {\n        text-align: right;\n    }\n</style>\n<table border=\"1\" class=\"dataframe\">\n  <thead>\n    <tr style=\"text-align: right;\">\n      <th></th>\n      <th>Invoice</th>\n      <th>StockCode</th>\n      <th>Description</th>\n      <th>Quantity</th>\n      <th>InvoiceDate</th>\n      <th>Price</th>\n      <th>Customer ID</th>\n      <th>Country</th>\n    </tr>\n  </thead>\n  <tbody>\n    <tr>\n      <th>0</th>\n      <td>489434</td>\n      <td>85048</td>\n      <td>15CM CHRISTMAS GLASS BALL 20 LIGHTS</td>\n      <td>12</td>\n      <td>2009-12-01 07:45:00</td>\n      <td>6.95</td>\n      <td>13085.0</td>\n      <td>United Kingdom</td>\n    </tr>\n    <tr>\n      <th>1</th>\n      <td>489434</td>\n      <td>79323P</td>\n      <td>PINK CHERRY LIGHTS</td>\n      <td>12</td>\n      <td>2009-12-01 07:45:00</td>\n      <td>6.75</td>\n      <td>13085.0</td>\n      <td>United Kingdom</td>\n    </tr>\n    <tr>\n      <th>2</th>\n      <td>489434</td>\n      <td>79323W</td>\n      <td>WHITE CHERRY LIGHTS</td>\n      <td>12</td>\n      <td>2009-12-01 07:45:00</td>\n      <td>6.75</td>\n      <td>13085.0</td>\n      <td>United Kingdom</td>\n    </tr>\n    <tr>\n      <th>3</th>\n      <td>489434</td>\n      <td>22041</td>\n      <td>RECORD FRAME 7\" SINGLE SIZE</td>\n      <td>48</td>\n      <td>2009-12-01 07:45:00</td>\n      <td>2.10</td>\n      <td>13085.0</td>\n      <td>United Kingdom</td>\n    </tr>\n    <tr>\n      <th>4</th>\n      <td>489434</td>\n      <td>21232</td>\n      <td>STRAWBERRY CERAMIC TRINKET BOX</td>\n      <td>24</td>\n      <td>2009-12-01 07:45:00</td>\n      <td>1.25</td>\n      <td>13085.0</td>\n      <td>United Kingdom</td>\n    </tr>\n  </tbody>\n</table>\n</div>"
          },
          "metadata": {}
        }
      ]
    },
    {
      "cell_type": "code",
      "source": [
        "# Descriptive statistics of the dataset.\n",
        "#Transposing means interchanging rows and columns, so the resulting DataFrame will have columns as rows and rows as columns.\n",
        "\n",
        "df.describe().T"
      ],
      "metadata": {
        "execution": {
          "iopub.status.busy": "2023-07-10T06:59:32.498452Z",
          "iopub.execute_input": "2023-07-10T06:59:32.498841Z",
          "iopub.status.idle": "2023-07-10T06:59:32.686494Z",
          "shell.execute_reply.started": "2023-07-10T06:59:32.498809Z",
          "shell.execute_reply": "2023-07-10T06:59:32.684889Z"
        },
        "trusted": true,
        "id": "bUvILImDz_qG",
        "outputId": "cd72a067-4dbd-4a3c-8864-d43785d13fe2"
      },
      "execution_count": null,
      "outputs": [
        {
          "execution_count": 2,
          "output_type": "execute_result",
          "data": {
            "text/plain": "                 count          mean          std       min       25%  \\\nQuantity     1067371.0      9.938898   172.705794 -80995.00      1.00   \nPrice        1067371.0      4.649388   123.553059 -53594.36      1.25   \nCustomer ID   824364.0  15324.638504  1697.464450  12346.00  13975.00   \n\n                 50%       75%      max  \nQuantity         3.0     10.00  80995.0  \nPrice            2.1      4.15  38970.0  \nCustomer ID  15255.0  16797.00  18287.0  ",
            "text/html": "<div>\n<style scoped>\n    .dataframe tbody tr th:only-of-type {\n        vertical-align: middle;\n    }\n\n    .dataframe tbody tr th {\n        vertical-align: top;\n    }\n\n    .dataframe thead th {\n        text-align: right;\n    }\n</style>\n<table border=\"1\" class=\"dataframe\">\n  <thead>\n    <tr style=\"text-align: right;\">\n      <th></th>\n      <th>count</th>\n      <th>mean</th>\n      <th>std</th>\n      <th>min</th>\n      <th>25%</th>\n      <th>50%</th>\n      <th>75%</th>\n      <th>max</th>\n    </tr>\n  </thead>\n  <tbody>\n    <tr>\n      <th>Quantity</th>\n      <td>1067371.0</td>\n      <td>9.938898</td>\n      <td>172.705794</td>\n      <td>-80995.00</td>\n      <td>1.00</td>\n      <td>3.0</td>\n      <td>10.00</td>\n      <td>80995.0</td>\n    </tr>\n    <tr>\n      <th>Price</th>\n      <td>1067371.0</td>\n      <td>4.649388</td>\n      <td>123.553059</td>\n      <td>-53594.36</td>\n      <td>1.25</td>\n      <td>2.1</td>\n      <td>4.15</td>\n      <td>38970.0</td>\n    </tr>\n    <tr>\n      <th>Customer ID</th>\n      <td>824364.0</td>\n      <td>15324.638504</td>\n      <td>1697.464450</td>\n      <td>12346.00</td>\n      <td>13975.00</td>\n      <td>15255.0</td>\n      <td>16797.00</td>\n      <td>18287.0</td>\n    </tr>\n  </tbody>\n</table>\n</div>"
          },
          "metadata": {}
        }
      ]
    },
    {
      "cell_type": "code",
      "source": [
        "# Detecting null values\n",
        "\n",
        "df.isnull().sum()"
      ],
      "metadata": {
        "execution": {
          "iopub.status.busy": "2023-07-10T06:59:32.687936Z",
          "iopub.execute_input": "2023-07-10T06:59:32.688657Z",
          "iopub.status.idle": "2023-07-10T06:59:34.590821Z",
          "shell.execute_reply.started": "2023-07-10T06:59:32.688617Z",
          "shell.execute_reply": "2023-07-10T06:59:34.589661Z"
        },
        "trusted": true,
        "id": "QAUuk3JFz_qH",
        "outputId": "6871e5c1-24b3-4422-c42a-d7a2e7f5d61b"
      },
      "execution_count": null,
      "outputs": [
        {
          "execution_count": 3,
          "output_type": "execute_result",
          "data": {
            "text/plain": "Invoice             0\nStockCode           0\nDescription      4382\nQuantity            0\nInvoiceDate         0\nPrice               0\nCustomer ID    243007\nCountry             0\ndtype: int64"
          },
          "metadata": {}
        }
      ]
    },
    {
      "cell_type": "code",
      "source": [
        "# Removal of the missing observations from the dataset\n",
        "\n",
        "df.dropna(inplace=True)\n",
        "df.isnull().sum()"
      ],
      "metadata": {
        "execution": {
          "iopub.status.busy": "2023-07-10T06:59:34.594797Z",
          "iopub.execute_input": "2023-07-10T06:59:34.596023Z",
          "iopub.status.idle": "2023-07-10T06:59:37.941399Z",
          "shell.execute_reply.started": "2023-07-10T06:59:34.595972Z",
          "shell.execute_reply": "2023-07-10T06:59:37.940269Z"
        },
        "trusted": true,
        "id": "fhaitA5Vz_qI",
        "outputId": "5308b293-5164-4915-e3ee-5d3975903ed7"
      },
      "execution_count": null,
      "outputs": [
        {
          "execution_count": 4,
          "output_type": "execute_result",
          "data": {
            "text/plain": "Invoice        0\nStockCode      0\nDescription    0\nQuantity       0\nInvoiceDate    0\nPrice          0\nCustomer ID    0\nCountry        0\ndtype: int64"
          },
          "metadata": {}
        }
      ]
    },
    {
      "cell_type": "code",
      "source": [
        "# unique product in this dataset\n",
        "\n",
        "df.nunique()"
      ],
      "metadata": {
        "execution": {
          "iopub.status.busy": "2023-07-10T06:59:37.943055Z",
          "iopub.execute_input": "2023-07-10T06:59:37.944147Z",
          "iopub.status.idle": "2023-07-10T06:59:38.445149Z",
          "shell.execute_reply.started": "2023-07-10T06:59:37.944100Z",
          "shell.execute_reply": "2023-07-10T06:59:38.443419Z"
        },
        "trusted": true,
        "id": "aNoI7i7oz_qI",
        "outputId": "ea878fc7-1dca-4e0b-b1f0-1bae6b063785"
      },
      "execution_count": null,
      "outputs": [
        {
          "execution_count": 5,
          "output_type": "execute_result",
          "data": {
            "text/plain": "Invoice        44876\nStockCode       4646\nDescription     5299\nQuantity         643\nInvoiceDate    41439\nPrice           1022\nCustomer ID     5942\nCountry           41\ndtype: int64"
          },
          "metadata": {}
        }
      ]
    },
    {
      "cell_type": "code",
      "source": [
        "# Total number of units are there for each product?\n",
        "\n",
        "\n",
        "df[\"Description\"].value_counts().head()\n",
        "df[\"StockCode\"].value_counts().head()"
      ],
      "metadata": {
        "execution": {
          "iopub.status.busy": "2023-07-10T06:59:38.447412Z",
          "iopub.execute_input": "2023-07-10T06:59:38.447891Z",
          "iopub.status.idle": "2023-07-10T06:59:38.801976Z",
          "shell.execute_reply.started": "2023-07-10T06:59:38.447845Z",
          "shell.execute_reply": "2023-07-10T06:59:38.800147Z"
        },
        "trusted": true,
        "id": "LLw6MXOyz_qI",
        "outputId": "e9ed50a4-01a5-47ea-b818-68a973a89d45"
      },
      "execution_count": null,
      "outputs": [
        {
          "execution_count": 6,
          "output_type": "execute_result",
          "data": {
            "text/plain": "85123A    5322\n22423     3777\n85099B    3446\n84879     2794\n20725     2755\nName: StockCode, dtype: int64"
          },
          "metadata": {}
        }
      ]
    },
    {
      "cell_type": "code",
      "source": [
        "# sorting the top 5 products based on the number of orders, from highest to lowest.\n",
        "\n",
        "df.groupby(\"Description\").agg({\"Quantity\": \"sum\"}).sort_values(\"Quantity\",ascending=False).head()"
      ],
      "metadata": {
        "execution": {
          "iopub.status.busy": "2023-07-10T06:59:38.805731Z",
          "iopub.execute_input": "2023-07-10T06:59:38.806330Z",
          "iopub.status.idle": "2023-07-10T06:59:38.992224Z",
          "shell.execute_reply.started": "2023-07-10T06:59:38.806271Z",
          "shell.execute_reply": "2023-07-10T06:59:38.991002Z"
        },
        "trusted": true,
        "id": "9UgZj0i6z_qJ",
        "outputId": "30a916d5-5809-49d4-8dd5-ec8722f28311"
      },
      "execution_count": null,
      "outputs": [
        {
          "execution_count": 7,
          "output_type": "execute_result",
          "data": {
            "text/plain": "                                    Quantity\nDescription                                 \nWORLD WAR 2 GLIDERS ASSTD DESIGNS     107489\nWHITE HANGING HEART T-LIGHT HOLDER     90008\nASSORTED COLOUR BIRD ORNAMENT          79434\nJUMBO BAG RED RETROSPOT                74564\nBROCADE RING PURSE                     70390",
            "text/html": "<div>\n<style scoped>\n    .dataframe tbody tr th:only-of-type {\n        vertical-align: middle;\n    }\n\n    .dataframe tbody tr th {\n        vertical-align: top;\n    }\n\n    .dataframe thead th {\n        text-align: right;\n    }\n</style>\n<table border=\"1\" class=\"dataframe\">\n  <thead>\n    <tr style=\"text-align: right;\">\n      <th></th>\n      <th>Quantity</th>\n    </tr>\n    <tr>\n      <th>Description</th>\n      <th></th>\n    </tr>\n  </thead>\n  <tbody>\n    <tr>\n      <th>WORLD WAR 2 GLIDERS ASSTD DESIGNS</th>\n      <td>107489</td>\n    </tr>\n    <tr>\n      <th>WHITE HANGING HEART T-LIGHT HOLDER</th>\n      <td>90008</td>\n    </tr>\n    <tr>\n      <th>ASSORTED COLOUR BIRD ORNAMENT</th>\n      <td>79434</td>\n    </tr>\n    <tr>\n      <th>JUMBO BAG RED RETROSPOT</th>\n      <td>74564</td>\n    </tr>\n    <tr>\n      <th>BROCADE RING PURSE</th>\n      <td>70390</td>\n    </tr>\n  </tbody>\n</table>\n</div>"
          },
          "metadata": {}
        }
      ]
    },
    {
      "cell_type": "code",
      "source": [
        "# Please remove the canceled transactions (denoted by 'C') from the dataset.\n",
        "\n",
        "df = df[(df['Quantity'] > 0)] #Filtering Positive Quantity\n",
        "df.dropna(inplace=True)  #Dropping Rows with Missing Values\n",
        "df = df[~df[\"Invoice\"].str.contains(\"C\", na=False)] #Removing Rows with Invoice Containing 'C'\n",
        "\n",
        "df.head()"
      ],
      "metadata": {
        "execution": {
          "iopub.status.busy": "2023-07-10T06:59:38.993868Z",
          "iopub.execute_input": "2023-07-10T06:59:38.994355Z",
          "iopub.status.idle": "2023-07-10T06:59:41.026083Z",
          "shell.execute_reply.started": "2023-07-10T06:59:38.994319Z",
          "shell.execute_reply": "2023-07-10T06:59:41.024478Z"
        },
        "trusted": true,
        "id": "upaOq_A3z_qJ",
        "outputId": "977dc8cb-849f-4b6f-aea1-9748ddc22bd8"
      },
      "execution_count": null,
      "outputs": [
        {
          "execution_count": 8,
          "output_type": "execute_result",
          "data": {
            "text/plain": "  Invoice StockCode                          Description  Quantity  \\\n0  489434     85048  15CM CHRISTMAS GLASS BALL 20 LIGHTS        12   \n1  489434    79323P                   PINK CHERRY LIGHTS        12   \n2  489434    79323W                  WHITE CHERRY LIGHTS        12   \n3  489434     22041         RECORD FRAME 7\" SINGLE SIZE         48   \n4  489434     21232       STRAWBERRY CERAMIC TRINKET BOX        24   \n\n           InvoiceDate  Price  Customer ID         Country  \n0  2009-12-01 07:45:00   6.95      13085.0  United Kingdom  \n1  2009-12-01 07:45:00   6.75      13085.0  United Kingdom  \n2  2009-12-01 07:45:00   6.75      13085.0  United Kingdom  \n3  2009-12-01 07:45:00   2.10      13085.0  United Kingdom  \n4  2009-12-01 07:45:00   1.25      13085.0  United Kingdom  ",
            "text/html": "<div>\n<style scoped>\n    .dataframe tbody tr th:only-of-type {\n        vertical-align: middle;\n    }\n\n    .dataframe tbody tr th {\n        vertical-align: top;\n    }\n\n    .dataframe thead th {\n        text-align: right;\n    }\n</style>\n<table border=\"1\" class=\"dataframe\">\n  <thead>\n    <tr style=\"text-align: right;\">\n      <th></th>\n      <th>Invoice</th>\n      <th>StockCode</th>\n      <th>Description</th>\n      <th>Quantity</th>\n      <th>InvoiceDate</th>\n      <th>Price</th>\n      <th>Customer ID</th>\n      <th>Country</th>\n    </tr>\n  </thead>\n  <tbody>\n    <tr>\n      <th>0</th>\n      <td>489434</td>\n      <td>85048</td>\n      <td>15CM CHRISTMAS GLASS BALL 20 LIGHTS</td>\n      <td>12</td>\n      <td>2009-12-01 07:45:00</td>\n      <td>6.95</td>\n      <td>13085.0</td>\n      <td>United Kingdom</td>\n    </tr>\n    <tr>\n      <th>1</th>\n      <td>489434</td>\n      <td>79323P</td>\n      <td>PINK CHERRY LIGHTS</td>\n      <td>12</td>\n      <td>2009-12-01 07:45:00</td>\n      <td>6.75</td>\n      <td>13085.0</td>\n      <td>United Kingdom</td>\n    </tr>\n    <tr>\n      <th>2</th>\n      <td>489434</td>\n      <td>79323W</td>\n      <td>WHITE CHERRY LIGHTS</td>\n      <td>12</td>\n      <td>2009-12-01 07:45:00</td>\n      <td>6.75</td>\n      <td>13085.0</td>\n      <td>United Kingdom</td>\n    </tr>\n    <tr>\n      <th>3</th>\n      <td>489434</td>\n      <td>22041</td>\n      <td>RECORD FRAME 7\" SINGLE SIZE</td>\n      <td>48</td>\n      <td>2009-12-01 07:45:00</td>\n      <td>2.10</td>\n      <td>13085.0</td>\n      <td>United Kingdom</td>\n    </tr>\n    <tr>\n      <th>4</th>\n      <td>489434</td>\n      <td>21232</td>\n      <td>STRAWBERRY CERAMIC TRINKET BOX</td>\n      <td>24</td>\n      <td>2009-12-01 07:45:00</td>\n      <td>1.25</td>\n      <td>13085.0</td>\n      <td>United Kingdom</td>\n    </tr>\n  </tbody>\n</table>\n</div>"
          },
          "metadata": {}
        }
      ]
    },
    {
      "cell_type": "code",
      "source": [
        "# 'TotalPrice' that represents the total revenue generated per invoice.\n",
        "\n",
        "\n",
        "df[\"TotalPrice\"]=df[\"Quantity\"]*df[\"Price\"]\n",
        "df.head()"
      ],
      "metadata": {
        "execution": {
          "iopub.status.busy": "2023-07-10T06:59:41.027719Z",
          "iopub.execute_input": "2023-07-10T06:59:41.028251Z",
          "iopub.status.idle": "2023-07-10T06:59:41.054403Z",
          "shell.execute_reply.started": "2023-07-10T06:59:41.028204Z",
          "shell.execute_reply": "2023-07-10T06:59:41.053122Z"
        },
        "trusted": true,
        "id": "IcCtFTRnz_qK",
        "outputId": "aacdad68-0d88-4b1a-9ffc-82e4aa863454"
      },
      "execution_count": null,
      "outputs": [
        {
          "execution_count": 9,
          "output_type": "execute_result",
          "data": {
            "text/plain": "  Invoice StockCode                          Description  Quantity  \\\n0  489434     85048  15CM CHRISTMAS GLASS BALL 20 LIGHTS        12   \n1  489434    79323P                   PINK CHERRY LIGHTS        12   \n2  489434    79323W                  WHITE CHERRY LIGHTS        12   \n3  489434     22041         RECORD FRAME 7\" SINGLE SIZE         48   \n4  489434     21232       STRAWBERRY CERAMIC TRINKET BOX        24   \n\n           InvoiceDate  Price  Customer ID         Country  TotalPrice  \n0  2009-12-01 07:45:00   6.95      13085.0  United Kingdom        83.4  \n1  2009-12-01 07:45:00   6.75      13085.0  United Kingdom        81.0  \n2  2009-12-01 07:45:00   6.75      13085.0  United Kingdom        81.0  \n3  2009-12-01 07:45:00   2.10      13085.0  United Kingdom       100.8  \n4  2009-12-01 07:45:00   1.25      13085.0  United Kingdom        30.0  ",
            "text/html": "<div>\n<style scoped>\n    .dataframe tbody tr th:only-of-type {\n        vertical-align: middle;\n    }\n\n    .dataframe tbody tr th {\n        vertical-align: top;\n    }\n\n    .dataframe thead th {\n        text-align: right;\n    }\n</style>\n<table border=\"1\" class=\"dataframe\">\n  <thead>\n    <tr style=\"text-align: right;\">\n      <th></th>\n      <th>Invoice</th>\n      <th>StockCode</th>\n      <th>Description</th>\n      <th>Quantity</th>\n      <th>InvoiceDate</th>\n      <th>Price</th>\n      <th>Customer ID</th>\n      <th>Country</th>\n      <th>TotalPrice</th>\n    </tr>\n  </thead>\n  <tbody>\n    <tr>\n      <th>0</th>\n      <td>489434</td>\n      <td>85048</td>\n      <td>15CM CHRISTMAS GLASS BALL 20 LIGHTS</td>\n      <td>12</td>\n      <td>2009-12-01 07:45:00</td>\n      <td>6.95</td>\n      <td>13085.0</td>\n      <td>United Kingdom</td>\n      <td>83.4</td>\n    </tr>\n    <tr>\n      <th>1</th>\n      <td>489434</td>\n      <td>79323P</td>\n      <td>PINK CHERRY LIGHTS</td>\n      <td>12</td>\n      <td>2009-12-01 07:45:00</td>\n      <td>6.75</td>\n      <td>13085.0</td>\n      <td>United Kingdom</td>\n      <td>81.0</td>\n    </tr>\n    <tr>\n      <th>2</th>\n      <td>489434</td>\n      <td>79323W</td>\n      <td>WHITE CHERRY LIGHTS</td>\n      <td>12</td>\n      <td>2009-12-01 07:45:00</td>\n      <td>6.75</td>\n      <td>13085.0</td>\n      <td>United Kingdom</td>\n      <td>81.0</td>\n    </tr>\n    <tr>\n      <th>3</th>\n      <td>489434</td>\n      <td>22041</td>\n      <td>RECORD FRAME 7\" SINGLE SIZE</td>\n      <td>48</td>\n      <td>2009-12-01 07:45:00</td>\n      <td>2.10</td>\n      <td>13085.0</td>\n      <td>United Kingdom</td>\n      <td>100.8</td>\n    </tr>\n    <tr>\n      <th>4</th>\n      <td>489434</td>\n      <td>21232</td>\n      <td>STRAWBERRY CERAMIC TRINKET BOX</td>\n      <td>24</td>\n      <td>2009-12-01 07:45:00</td>\n      <td>1.25</td>\n      <td>13085.0</td>\n      <td>United Kingdom</td>\n      <td>30.0</td>\n    </tr>\n  </tbody>\n</table>\n</div>"
          },
          "metadata": {}
        }
      ]
    },
    {
      "cell_type": "code",
      "source": [
        "df.info() ##DataFrame's columns, the number of non-null values in each column, the data types of the columns, and memory usage."
      ],
      "metadata": {
        "execution": {
          "iopub.status.busy": "2023-07-10T06:59:41.058390Z",
          "iopub.execute_input": "2023-07-10T06:59:41.058779Z",
          "iopub.status.idle": "2023-07-10T06:59:42.356483Z",
          "shell.execute_reply.started": "2023-07-10T06:59:41.058749Z",
          "shell.execute_reply": "2023-07-10T06:59:42.355510Z"
        },
        "trusted": true,
        "id": "gzgPdkC2z_qK",
        "outputId": "80672266-abf6-40f0-b48a-6ce73fe570b0"
      },
      "execution_count": null,
      "outputs": [
        {
          "name": "stdout",
          "text": "<class 'pandas.core.frame.DataFrame'>\nInt64Index: 805620 entries, 0 to 1067370\nData columns (total 9 columns):\n #   Column       Non-Null Count   Dtype  \n---  ------       --------------   -----  \n 0   Invoice      805620 non-null  object \n 1   StockCode    805620 non-null  object \n 2   Description  805620 non-null  object \n 3   Quantity     805620 non-null  int64  \n 4   InvoiceDate  805620 non-null  object \n 5   Price        805620 non-null  float64\n 6   Customer ID  805620 non-null  float64\n 7   Country      805620 non-null  object \n 8   TotalPrice   805620 non-null  float64\ndtypes: float64(3), int64(1), object(5)\nmemory usage: 61.5+ MB\n",
          "output_type": "stream"
        }
      ]
    },
    {
      "cell_type": "code",
      "source": [
        "# changing the variable types and convert the variables representing dates to the type 'date'.\n",
        "\n",
        "date_columns=df.columns[df.columns.str.contains(\"Date\")] #Selecting Date Columns\n",
        "df[date_columns]=df[date_columns].apply(pd.to_datetime) #Converting Columns to Datetime\n",
        "df.info()"
      ],
      "metadata": {
        "execution": {
          "iopub.status.busy": "2023-07-10T06:59:42.358010Z",
          "iopub.execute_input": "2023-07-10T06:59:42.359045Z",
          "iopub.status.idle": "2023-07-10T06:59:43.634342Z",
          "shell.execute_reply.started": "2023-07-10T06:59:42.359007Z",
          "shell.execute_reply": "2023-07-10T06:59:43.633124Z"
        },
        "trusted": true,
        "id": "L3wlf1t0z_qL",
        "outputId": "44c2512c-f35a-4a31-f9ce-918c96d07e06"
      },
      "execution_count": null,
      "outputs": [
        {
          "name": "stdout",
          "text": "<class 'pandas.core.frame.DataFrame'>\nInt64Index: 805620 entries, 0 to 1067370\nData columns (total 9 columns):\n #   Column       Non-Null Count   Dtype         \n---  ------       --------------   -----         \n 0   Invoice      805620 non-null  object        \n 1   StockCode    805620 non-null  object        \n 2   Description  805620 non-null  object        \n 3   Quantity     805620 non-null  int64         \n 4   InvoiceDate  805620 non-null  datetime64[ns]\n 5   Price        805620 non-null  float64       \n 6   Customer ID  805620 non-null  float64       \n 7   Country      805620 non-null  object        \n 8   TotalPrice   805620 non-null  float64       \ndtypes: datetime64[ns](1), float64(3), int64(1), object(4)\nmemory usage: 61.5+ MB\n",
          "output_type": "stream"
        }
      ]
    },
    {
      "cell_type": "markdown",
      "source": [
        "**Removing outliers**"
      ],
      "metadata": {
        "id": "ATBg1_Flz_qL"
      }
    },
    {
      "cell_type": "code",
      "source": [
        "def outlier_thresholds(dataframe, variable):#function calculates the upper and lower threshold values to identify outliers in a given column of the DataFrame.\n",
        "    ##Calculate the 1st percentile (quartile1) and 99th percentile (quartile3) of the column\n",
        "    quartile1 = dataframe[variable].quantile(0.01)\n",
        "    quartile3 = dataframe[variable].quantile(0.99)\n",
        "    interquantile_range = quartile3 - quartile1   # Calculate the interquartile range (IQR) as the difference between quartile3 and quartile1\n",
        "    up_limit = quartile3 + 1.5 * interquantile_range\n",
        "    low_limit = quartile1 - 1.5 * interquantile_range\n",
        "    return up_limit, low_limit # Return the upper and lower threshold values\n",
        "\n",
        "def replace_with_threshold(dataframe, variable): #replaces the outliers in a given column of the DataFrame with the calculated threshold values.\n",
        "    up_limit, low_limit = outlier_thresholds(dataframe, variable)\n",
        "    # dataframe.loc[(dataframe[variable] < low_limit), variable] = low_limit\n",
        "    dataframe.loc[(dataframe[variable] > up_limit), variable] = up_limit   #Replace the values above the upper threshold with the upper limit threshold value"
      ],
      "metadata": {
        "id": "ACZa5WTUz_qN"
      },
      "execution_count": null,
      "outputs": []
    },
    {
      "cell_type": "code",
      "source": [
        "f, ax = plt.subplots(2,1, figsize = (20,5))\n",
        "col_list = [\"Quantity\",\"Price\"]\n",
        "for i in range(0,2):\n",
        "    ax[i].boxplot(df[col_list[i]],flierprops = dict(marker = \"s\", markerfacecolor = \"red\"), vert = 0)\n",
        "plt.show()"
      ],
      "metadata": {
        "execution": {
          "iopub.status.busy": "2023-07-10T07:40:28.735956Z",
          "iopub.execute_input": "2023-07-10T07:40:28.736465Z",
          "iopub.status.idle": "2023-07-10T07:40:29.483245Z",
          "shell.execute_reply.started": "2023-07-10T07:40:28.736429Z",
          "shell.execute_reply": "2023-07-10T07:40:29.482054Z"
        },
        "trusted": true,
        "id": "8h0JZRfRz_qN",
        "outputId": "128b107b-e6fb-4a6c-cce7-9e81cbfd8450"
      },
      "execution_count": null,
      "outputs": [
        {
          "output_type": "display_data",
          "data": {
            "text/plain": "<Figure size 2000x500 with 2 Axes>",
            "image/png": "[encoded data removed]"
          },
          "metadata": {}
        }
      ]
    },
    {
      "cell_type": "code",
      "source": [
        "# Applying the functions for remove the outlier.\n",
        "replace_with_threshold(df, \"Quantity\")\n",
        "replace_with_threshold(df, \"Price\")"
      ],
      "metadata": {
        "execution": {
          "iopub.status.busy": "2023-07-10T07:40:59.136672Z",
          "iopub.execute_input": "2023-07-10T07:40:59.137114Z",
          "iopub.status.idle": "2023-07-10T07:40:59.202399Z",
          "shell.execute_reply.started": "2023-07-10T07:40:59.137079Z",
          "shell.execute_reply": "2023-07-10T07:40:59.200568Z"
        },
        "trusted": true,
        "id": "sop-yFCqz_qN"
      },
      "execution_count": null,
      "outputs": []
    },
    {
      "cell_type": "code",
      "source": [
        "# Observing them after removing outliers.\n",
        "f, ax = plt.subplots(2,1, figsize = (20,5))\n",
        "for i in range(0,2):\n",
        "    ax[i].boxplot(df[col_list[i]],flierprops = dict(marker = \"s\", markerfacecolor = \"red\"), vert = 0)\n",
        "plt.show()"
      ],
      "metadata": {
        "execution": {
          "iopub.status.busy": "2023-07-10T07:41:16.582853Z",
          "iopub.execute_input": "2023-07-10T07:41:16.583365Z",
          "iopub.status.idle": "2023-07-10T07:41:17.333877Z",
          "shell.execute_reply.started": "2023-07-10T07:41:16.583330Z",
          "shell.execute_reply": "2023-07-10T07:41:17.332008Z"
        },
        "trusted": true,
        "id": "lrzqrgWwz_qN",
        "outputId": "752d496d-7e4a-45e7-9973-a2c319da38fd"
      },
      "execution_count": null,
      "outputs": [
        {
          "output_type": "display_data",
          "data": {
            "text/plain": "<Figure size 2000x500 with 2 Axes>",
            "image/png": "[encoded data removed]"
          },
          "metadata": {}
        }
      ]
    },
    {
      "cell_type": "code",
      "source": [
        "# Calculating RFM Metrics\n",
        "\n",
        "\n",
        "df[\"InvoiceDate\"].max() #\n",
        "type(\"InvoiceDate\")\n",
        "analysis_date = dt.datetime(2011, 12, 11)\n",
        "type(analysis_date)\n",
        "\n",
        "rfm = df.groupby('Customer ID').agg({'InvoiceDate': lambda InvoiceDate: (analysis_date - InvoiceDate.max()).days, #recency\n",
        "                                     'Invoice': lambda Invoice: Invoice.nunique(), #frequency\n",
        "                                     'TotalPrice': lambda TotalPrice: TotalPrice.sum()})  #monetary\n",
        "\n",
        "rfm.columns = ['recency', 'frequency', 'monetary']\n",
        "\n",
        "rfm.head()\n",
        "\n"
      ],
      "metadata": {
        "execution": {
          "iopub.status.busy": "2023-07-10T06:59:43.636065Z",
          "iopub.execute_input": "2023-07-10T06:59:43.636466Z",
          "iopub.status.idle": "2023-07-10T06:59:45.827964Z",
          "shell.execute_reply.started": "2023-07-10T06:59:43.636426Z",
          "shell.execute_reply": "2023-07-10T06:59:45.826476Z"
        },
        "trusted": true,
        "id": "ZUULqeZwz_qN",
        "outputId": "5ed2f20e-267c-4bf4-c78c-990f24784dbc"
      },
      "execution_count": null,
      "outputs": [
        {
          "execution_count": 12,
          "output_type": "execute_result",
          "data": {
            "text/plain": "             recency  frequency  monetary\nCustomer ID                              \n12346.0          326         12  77556.46\n12347.0            3          8   5633.32\n12348.0           76          5   2019.40\n12349.0           19          4   4428.69\n12350.0          311          1    334.40",
            "text/html": "<div>\n<style scoped>\n    .dataframe tbody tr th:only-of-type {\n        vertical-align: middle;\n    }\n\n    .dataframe tbody tr th {\n        vertical-align: top;\n    }\n\n    .dataframe thead th {\n        text-align: right;\n    }\n</style>\n<table border=\"1\" class=\"dataframe\">\n  <thead>\n    <tr style=\"text-align: right;\">\n      <th></th>\n      <th>recency</th>\n      <th>frequency</th>\n      <th>monetary</th>\n    </tr>\n    <tr>\n      <th>Customer ID</th>\n      <th></th>\n      <th></th>\n      <th></th>\n    </tr>\n  </thead>\n  <tbody>\n    <tr>\n      <th>12346.0</th>\n      <td>326</td>\n      <td>12</td>\n      <td>77556.46</td>\n    </tr>\n    <tr>\n      <th>12347.0</th>\n      <td>3</td>\n      <td>8</td>\n      <td>5633.32</td>\n    </tr>\n    <tr>\n      <th>12348.0</th>\n      <td>76</td>\n      <td>5</td>\n      <td>2019.40</td>\n    </tr>\n    <tr>\n      <th>12349.0</th>\n      <td>19</td>\n      <td>4</td>\n      <td>4428.69</td>\n    </tr>\n    <tr>\n      <th>12350.0</th>\n      <td>311</td>\n      <td>1</td>\n      <td>334.40</td>\n    </tr>\n  </tbody>\n</table>\n</div>"
          },
          "metadata": {}
        }
      ]
    },
    {
      "cell_type": "code",
      "source": [
        "#Creating RFM Scores and Combining Them into a Single Variable\n",
        "\n",
        "\n",
        "rfm[\"recency_score\"] = pd.qcut(rfm[\"recency\"],5,labels=[5,4,3,2,1]) #A higher score indicates lower recency, meaning more recent purchases.\n",
        "rfm[\"frequency_score\"]= pd.qcut(rfm[\"frequency\"].rank(method=\"first\"),5,labels=[1,2,3,4,5]) ##A higher score indicates higher frequency, meaning more frequent transactions.\n",
        "rfm[\"monetary_score\"]= pd.qcut(rfm[\"monetary\"],5,labels=[1,2,3,4,5])#A higher score indicates higher monetary value, meaning more money spent\n",
        "\n",
        "rfm[\"RF_SCORE\"]=rfm[\"recency_score\"].astype(str)+rfm[\"frequency_score\"].astype(str) #1st digit recency_score 2nd digit frequency_score\n",
        "rfm.head()"
      ],
      "metadata": {
        "execution": {
          "iopub.status.busy": "2023-07-10T06:59:45.829484Z",
          "iopub.execute_input": "2023-07-10T06:59:45.830740Z",
          "iopub.status.idle": "2023-07-10T06:59:45.886526Z",
          "shell.execute_reply.started": "2023-07-10T06:59:45.830701Z",
          "shell.execute_reply": "2023-07-10T06:59:45.885226Z"
        },
        "trusted": true,
        "id": "bgz9JWPez_qO",
        "outputId": "213473d4-54db-4f36-dcf5-a7aa855476f4"
      },
      "execution_count": null,
      "outputs": [
        {
          "execution_count": 13,
          "output_type": "execute_result",
          "data": {
            "text/plain": "             recency  frequency  monetary recency_score frequency_score  \\\nCustomer ID                                                               \n12346.0          326         12  77556.46             2               5   \n12347.0            3          8   5633.32             5               4   \n12348.0           76          5   2019.40             3               4   \n12349.0           19          4   4428.69             5               3   \n12350.0          311          1    334.40             2               1   \n\n            monetary_score RF_SCORE  \nCustomer ID                          \n12346.0                  5       25  \n12347.0                  5       54  \n12348.0                  4       34  \n12349.0                  5       53  \n12350.0                  2       21  ",
            "text/html": "<div>\n<style scoped>\n    .dataframe tbody tr th:only-of-type {\n        vertical-align: middle;\n    }\n\n    .dataframe tbody tr th {\n        vertical-align: top;\n    }\n\n    .dataframe thead th {\n        text-align: right;\n    }\n</style>\n<table border=\"1\" class=\"dataframe\">\n  <thead>\n    <tr style=\"text-align: right;\">\n      <th></th>\n      <th>recency</th>\n      <th>frequency</th>\n      <th>monetary</th>\n      <th>recency_score</th>\n      <th>frequency_score</th>\n      <th>monetary_score</th>\n      <th>RF_SCORE</th>\n    </tr>\n    <tr>\n      <th>Customer ID</th>\n      <th></th>\n      <th></th>\n      <th></th>\n      <th></th>\n      <th></th>\n      <th></th>\n      <th></th>\n    </tr>\n  </thead>\n  <tbody>\n    <tr>\n      <th>12346.0</th>\n      <td>326</td>\n      <td>12</td>\n      <td>77556.46</td>\n      <td>2</td>\n      <td>5</td>\n      <td>5</td>\n      <td>25</td>\n    </tr>\n    <tr>\n      <th>12347.0</th>\n      <td>3</td>\n      <td>8</td>\n      <td>5633.32</td>\n      <td>5</td>\n      <td>4</td>\n      <td>5</td>\n      <td>54</td>\n    </tr>\n    <tr>\n      <th>12348.0</th>\n      <td>76</td>\n      <td>5</td>\n      <td>2019.40</td>\n      <td>3</td>\n      <td>4</td>\n      <td>4</td>\n      <td>34</td>\n    </tr>\n    <tr>\n      <th>12349.0</th>\n      <td>19</td>\n      <td>4</td>\n      <td>4428.69</td>\n      <td>5</td>\n      <td>3</td>\n      <td>5</td>\n      <td>53</td>\n    </tr>\n    <tr>\n      <th>12350.0</th>\n      <td>311</td>\n      <td>1</td>\n      <td>334.40</td>\n      <td>2</td>\n      <td>1</td>\n      <td>2</td>\n      <td>21</td>\n    </tr>\n  </tbody>\n</table>\n</div>"
          },
          "metadata": {}
        }
      ]
    },
    {
      "cell_type": "markdown",
      "source": [
        "![](https://cdn.enhencer.com/website-assets/images/blog/AdvantagesAndInefficaciesOfRFMSegmentation1.png)"
      ],
      "metadata": {
        "id": "1xpsCggKz_qO"
      }
    },
    {
      "cell_type": "code",
      "source": [
        "# Defining RFM scores as segments\n",
        "\n",
        "\n",
        "seg_map = {\n",
        "    r'[1-2][1-2]': 'hibernating',\n",
        "    r'[1-2][3-4]': 'at_risk',\n",
        "    r'[1-2]5': 'cant_loose',\n",
        "    r'3[1-2]': 'about_to_sleep',\n",
        "    r'33': 'need_attention',\n",
        "    r'[3-4][4-5]': 'loyal_customers',\n",
        "    r'41': 'promising',\n",
        "    r'51': 'new_customers',\n",
        "    r'[4-5][2-3]': 'potential_loyalists',\n",
        "    r'5[4-5]': 'champions'\n",
        "}\n",
        "\n",
        "rfm['segment'] = rfm['RF_SCORE'].replace(seg_map, regex=True)\n",
        "rfm.head()\n",
        "rfm = rfm[[\"recency\", \"frequency\", \"monetary\",\"recency_score\" ,\"frequency_score\",\"RF_SCORE\" , \"segment\"]]\n",
        "rfm.head()\n"
      ],
      "metadata": {
        "execution": {
          "iopub.status.busy": "2023-07-10T06:59:45.888586Z",
          "iopub.execute_input": "2023-07-10T06:59:45.889056Z",
          "iopub.status.idle": "2023-07-10T06:59:46.046113Z",
          "shell.execute_reply.started": "2023-07-10T06:59:45.889020Z",
          "shell.execute_reply": "2023-07-10T06:59:46.044683Z"
        },
        "trusted": true,
        "id": "STWGFsNJz_qO",
        "outputId": "6a6dc060-5aae-4b67-e96d-8be6ad233e73"
      },
      "execution_count": null,
      "outputs": [
        {
          "execution_count": 14,
          "output_type": "execute_result",
          "data": {
            "text/plain": "             recency  frequency  monetary recency_score frequency_score  \\\nCustomer ID                                                               \n12346.0          326         12  77556.46             2               5   \n12347.0            3          8   5633.32             5               4   \n12348.0           76          5   2019.40             3               4   \n12349.0           19          4   4428.69             5               3   \n12350.0          311          1    334.40             2               1   \n\n            RF_SCORE              segment  \nCustomer ID                                \n12346.0           25           cant_loose  \n12347.0           54            champions  \n12348.0           34      loyal_customers  \n12349.0           53  potential_loyalists  \n12350.0           21          hibernating  ",
            "text/html": "<div>\n<style scoped>\n    .dataframe tbody tr th:only-of-type {\n        vertical-align: middle;\n    }\n\n    .dataframe tbody tr th {\n        vertical-align: top;\n    }\n\n    .dataframe thead th {\n        text-align: right;\n    }\n</style>\n<table border=\"1\" class=\"dataframe\">\n  <thead>\n    <tr style=\"text-align: right;\">\n      <th></th>\n      <th>recency</th>\n      <th>frequency</th>\n      <th>monetary</th>\n      <th>recency_score</th>\n      <th>frequency_score</th>\n      <th>RF_SCORE</th>\n      <th>segment</th>\n    </tr>\n    <tr>\n      <th>Customer ID</th>\n      <th></th>\n      <th></th>\n      <th></th>\n      <th></th>\n      <th></th>\n      <th></th>\n      <th></th>\n    </tr>\n  </thead>\n  <tbody>\n    <tr>\n      <th>12346.0</th>\n      <td>326</td>\n      <td>12</td>\n      <td>77556.46</td>\n      <td>2</td>\n      <td>5</td>\n      <td>25</td>\n      <td>cant_loose</td>\n    </tr>\n    <tr>\n      <th>12347.0</th>\n      <td>3</td>\n      <td>8</td>\n      <td>5633.32</td>\n      <td>5</td>\n      <td>4</td>\n      <td>54</td>\n      <td>champions</td>\n    </tr>\n    <tr>\n      <th>12348.0</th>\n      <td>76</td>\n      <td>5</td>\n      <td>2019.40</td>\n      <td>3</td>\n      <td>4</td>\n      <td>34</td>\n      <td>loyal_customers</td>\n    </tr>\n    <tr>\n      <th>12349.0</th>\n      <td>19</td>\n      <td>4</td>\n      <td>4428.69</td>\n      <td>5</td>\n      <td>3</td>\n      <td>53</td>\n      <td>potential_loyalists</td>\n    </tr>\n    <tr>\n      <th>12350.0</th>\n      <td>311</td>\n      <td>1</td>\n      <td>334.40</td>\n      <td>2</td>\n      <td>1</td>\n      <td>21</td>\n      <td>hibernating</td>\n    </tr>\n  </tbody>\n</table>\n</div>"
          },
          "metadata": {}
        }
      ]
    },
    {
      "cell_type": "code",
      "source": [
        "# Select the three segments that you find important. Interpret these three segments in terms of both\n",
        "# actionable decisions and the structure of the segments (average RFM values).\n",
        "#FILTERATION OF CUSTOMERS\n",
        "\n",
        "\n",
        "rfm[rfm[\"segment\"]==\"cant_loose\"].head()\n",
        "#rfm.groupby(\"segment\").agg({\"RF_SCORE\":\"mean\"})\n",
        "rfm[rfm[\"segment\"]==\"about_to_sleep\"].head()\n",
        "rfm[rfm[\"segment\"]==\"at_risk\"].head()\n",
        "\n",
        "\n",
        "new_df = pd.DataFrame()\n",
        "new_df[\"loyal_customer_id\"] = rfm[rfm[\"segment\"] == \"loyal_customers\"].index\n",
        "\n",
        "new_df[\"loyal_customer_id\"] = new_df[\"loyal_customer_id\"].astype(int) #ondalıklardan kurtulduk\n",
        "\n",
        "new_df.to_csv(\"loyal_customers.csv\")\n",
        "#csv ye ceviridk\n",
        "rfm.to_csv(\"rfm.csv\")  #This saves the entire RFM DataFrame to a CSV file named \"rfm.csv\"."
      ],
      "metadata": {
        "execution": {
          "iopub.status.busy": "2023-07-10T08:09:34.189438Z",
          "iopub.execute_input": "2023-07-10T08:09:34.190033Z",
          "iopub.status.idle": "2023-07-10T08:09:34.266938Z",
          "shell.execute_reply.started": "2023-07-10T08:09:34.189992Z",
          "shell.execute_reply": "2023-07-10T08:09:34.265353Z"
        },
        "trusted": true,
        "id": "Rt09_x1Sz_qO"
      },
      "execution_count": null,
      "outputs": []
    },
    {
      "cell_type": "code",
      "source": [
        "df.info()"
      ],
      "metadata": {
        "execution": {
          "iopub.status.busy": "2023-07-10T07:22:32.926628Z",
          "iopub.execute_input": "2023-07-10T07:22:32.927081Z",
          "iopub.status.idle": "2023-07-10T07:22:34.002557Z",
          "shell.execute_reply.started": "2023-07-10T07:22:32.927043Z",
          "shell.execute_reply": "2023-07-10T07:22:34.001271Z"
        },
        "trusted": true,
        "id": "30VOTtSvz_qP",
        "outputId": "6047a447-f426-4f02-dfb9-9efdf2db33c9"
      },
      "execution_count": null,
      "outputs": [
        {
          "name": "stdout",
          "text": "<class 'pandas.core.frame.DataFrame'>\nInt64Index: 805620 entries, 0 to 1067370\nData columns (total 9 columns):\n #   Column       Non-Null Count   Dtype         \n---  ------       --------------   -----         \n 0   Invoice      805620 non-null  object        \n 1   StockCode    805620 non-null  object        \n 2   Description  805620 non-null  object        \n 3   Quantity     805620 non-null  int64         \n 4   InvoiceDate  805620 non-null  datetime64[ns]\n 5   Price        805620 non-null  float64       \n 6   Customer ID  805620 non-null  float64       \n 7   Country      805620 non-null  object        \n 8   TotalPrice   805620 non-null  float64       \ndtypes: datetime64[ns](1), float64(3), int64(1), object(4)\nmemory usage: 61.5+ MB\n",
          "output_type": "stream"
        }
      ]
    },
    {
      "cell_type": "code",
      "source": [
        "x=df['Quantity'].values\n",
        "y=df['Price'].values\n",
        "X=x.reshape(-1,1)\n",
        "X"
      ],
      "metadata": {
        "execution": {
          "iopub.status.busy": "2023-07-10T07:23:57.881280Z",
          "iopub.execute_input": "2023-07-10T07:23:57.881674Z",
          "iopub.status.idle": "2023-07-10T07:23:57.890981Z",
          "shell.execute_reply.started": "2023-07-10T07:23:57.881645Z",
          "shell.execute_reply": "2023-07-10T07:23:57.889711Z"
        },
        "trusted": true,
        "id": "OuF_99Ziz_qP",
        "outputId": "fa8a4f41-2d17-4e28-abd1-45368a991381"
      },
      "execution_count": null,
      "outputs": [
        {
          "execution_count": 26,
          "output_type": "execute_result",
          "data": {
            "text/plain": "array([[12],\n       [12],\n       [12],\n       ...,\n       [ 4],\n       [ 3],\n       [ 1]])"
          },
          "metadata": {}
        }
      ]
    },
    {
      "cell_type": "markdown",
      "source": [
        "****TrainTest split****"
      ],
      "metadata": {
        "id": "0-ibVoeGz_qP"
      }
    },
    {
      "cell_type": "code",
      "source": [
        "from sklearn.model_selection import train_test_split\n",
        "X_train,X_test,y_train,y_test = train_test_split(X,y,train_size=0.7,test_size=0.3,random_state=100)"
      ],
      "metadata": {
        "execution": {
          "iopub.status.busy": "2023-07-10T07:24:09.039506Z",
          "iopub.execute_input": "2023-07-10T07:24:09.041159Z",
          "iopub.status.idle": "2023-07-10T07:24:09.111868Z",
          "shell.execute_reply.started": "2023-07-10T07:24:09.041115Z",
          "shell.execute_reply": "2023-07-10T07:24:09.110663Z"
        },
        "trusted": true,
        "id": "LsME-1eLz_qP"
      },
      "execution_count": null,
      "outputs": []
    },
    {
      "cell_type": "code",
      "source": [
        "X_train.shape\n"
      ],
      "metadata": {
        "execution": {
          "iopub.status.busy": "2023-07-10T07:25:37.282771Z",
          "iopub.execute_input": "2023-07-10T07:25:37.283328Z",
          "iopub.status.idle": "2023-07-10T07:25:37.295286Z",
          "shell.execute_reply.started": "2023-07-10T07:25:37.283291Z",
          "shell.execute_reply": "2023-07-10T07:25:37.293148Z"
        },
        "trusted": true,
        "id": "0m0MUBL6z_qP",
        "outputId": "f505f92d-f3b8-49ea-f6c3-f7535b0b3f14"
      },
      "execution_count": null,
      "outputs": [
        {
          "execution_count": 28,
          "output_type": "execute_result",
          "data": {
            "text/plain": "(563934, 1)"
          },
          "metadata": {}
        }
      ]
    },
    {
      "cell_type": "code",
      "source": [
        "y_test.shape"
      ],
      "metadata": {
        "execution": {
          "iopub.status.busy": "2023-07-10T07:25:52.561223Z",
          "iopub.execute_input": "2023-07-10T07:25:52.561668Z",
          "iopub.status.idle": "2023-07-10T07:25:52.571799Z",
          "shell.execute_reply.started": "2023-07-10T07:25:52.561632Z",
          "shell.execute_reply": "2023-07-10T07:25:52.569154Z"
        },
        "trusted": true,
        "id": "QCsFGQXrz_qP",
        "outputId": "878c359c-9b4e-472e-f5d5-4f482968b3da"
      },
      "execution_count": null,
      "outputs": [
        {
          "execution_count": 29,
          "output_type": "execute_result",
          "data": {
            "text/plain": "(241686,)"
          },
          "metadata": {}
        }
      ]
    },
    {
      "cell_type": "markdown",
      "source": [
        "**Building a linear model**"
      ],
      "metadata": {
        "id": "q_Fu2zKEz_qQ"
      }
    },
    {
      "cell_type": "code",
      "source": [
        "from sklearn.linear_model import LinearRegression\n",
        "lr=LinearRegression()\n",
        "lr.fit(X_train,y_train)"
      ],
      "metadata": {
        "execution": {
          "iopub.status.busy": "2023-07-10T07:26:52.180317Z",
          "iopub.execute_input": "2023-07-10T07:26:52.180765Z",
          "iopub.status.idle": "2023-07-10T07:26:52.357530Z",
          "shell.execute_reply.started": "2023-07-10T07:26:52.180732Z",
          "shell.execute_reply": "2023-07-10T07:26:52.356276Z"
        },
        "trusted": true,
        "id": "GgAkmI6Zz_qQ",
        "outputId": "0409c7be-43fa-4662-991c-4f6637786710"
      },
      "execution_count": null,
      "outputs": [
        {
          "execution_count": 30,
          "output_type": "execute_result",
          "data": {
            "text/plain": "LinearRegression()",
            "text/html": "<style>#sk-container-id-1 {color: black;background-color: white;}#sk-container-id-1 pre{padding: 0;}#sk-container-id-1 div.sk-toggleable {background-color: white;}#sk-container-id-1 label.sk-toggleable__label {cursor: pointer;display: block;width: 100%;margin-bottom: 0;padding: 0.3em;box-sizing: border-box;text-align: center;}#sk-container-id-1 label.sk-toggleable__label-arrow:before {content: \"▸\";float: left;margin-right: 0.25em;color: #696969;}#sk-container-id-1 label.sk-toggleable__label-arrow:hover:before {color: black;}#sk-container-id-1 div.sk-estimator:hover label.sk-toggleable__label-arrow:before {color: black;}#sk-container-id-1 div.sk-toggleable__content {max-height: 0;max-width: 0;overflow: hidden;text-align: left;background-color: #f0f8ff;}#sk-container-id-1 div.sk-toggleable__content pre {margin: 0.2em;color: black;border-radius: 0.25em;background-color: #f0f8ff;}#sk-container-id-1 input.sk-toggleable__control:checked~div.sk-toggleable__content {max-height: 200px;max-width: 100%;overflow: auto;}#sk-container-id-1 input.sk-toggleable__control:checked~label.sk-toggleable__label-arrow:before {content: \"▾\";}#sk-container-id-1 div.sk-estimator input.sk-toggleable__control:checked~label.sk-toggleable__label {background-color: #d4ebff;}#sk-container-id-1 div.sk-label input.sk-toggleable__control:checked~label.sk-toggleable__label {background-color: #d4ebff;}#sk-container-id-1 input.sk-hidden--visually {border: 0;clip: rect(1px 1px 1px 1px);clip: rect(1px, 1px, 1px, 1px);height: 1px;margin: -1px;overflow: hidden;padding: 0;position: absolute;width: 1px;}#sk-container-id-1 div.sk-estimator {font-family: monospace;background-color: #f0f8ff;border: 1px dotted black;border-radius: 0.25em;box-sizing: border-box;margin-bottom: 0.5em;}#sk-container-id-1 div.sk-estimator:hover {background-color: #d4ebff;}#sk-container-id-1 div.sk-parallel-item::after {content: \"\";width: 100%;border-bottom: 1px solid gray;flex-grow: 1;}#sk-container-id-1 div.sk-label:hover label.sk-toggleable__label {background-color: #d4ebff;}#sk-container-id-1 div.sk-serial::before {content: \"\";position: absolute;border-left: 1px solid gray;box-sizing: border-box;top: 0;bottom: 0;left: 50%;z-index: 0;}#sk-container-id-1 div.sk-serial {display: flex;flex-direction: column;align-items: center;background-color: white;padding-right: 0.2em;padding-left: 0.2em;position: relative;}#sk-container-id-1 div.sk-item {position: relative;z-index: 1;}#sk-container-id-1 div.sk-parallel {display: flex;align-items: stretch;justify-content: center;background-color: white;position: relative;}#sk-container-id-1 div.sk-item::before, #sk-container-id-1 div.sk-parallel-item::before {content: \"\";position: absolute;border-left: 1px solid gray;box-sizing: border-box;top: 0;bottom: 0;left: 50%;z-index: -1;}#sk-container-id-1 div.sk-parallel-item {display: flex;flex-direction: column;z-index: 1;position: relative;background-color: white;}#sk-container-id-1 div.sk-parallel-item:first-child::after {align-self: flex-end;width: 50%;}#sk-container-id-1 div.sk-parallel-item:last-child::after {align-self: flex-start;width: 50%;}#sk-container-id-1 div.sk-parallel-item:only-child::after {width: 0;}#sk-container-id-1 div.sk-dashed-wrapped {border: 1px dashed gray;margin: 0 0.4em 0.5em 0.4em;box-sizing: border-box;padding-bottom: 0.4em;background-color: white;}#sk-container-id-1 div.sk-label label {font-family: monospace;font-weight: bold;display: inline-block;line-height: 1.2em;}#sk-container-id-1 div.sk-label-container {text-align: center;}#sk-container-id-1 div.sk-container {/* jupyter's `normalize.less` sets `[hidden] { display: none; }` but bootstrap.min.css set `[hidden] { display: none !important; }` so we also need the `!important` here to be able to override the default hidden behavior on the sphinx rendered scikit-learn.org. See: https://github.com/scikit-learn/scikit-learn/issues/21755 */display: inline-block !important;position: relative;}#sk-container-id-1 div.sk-text-repr-fallback {display: none;}</style><div id=\"sk-container-id-1\" class=\"sk-top-container\"><div class=\"sk-text-repr-fallback\"><pre>LinearRegression()</pre><b>In a Jupyter environment, please rerun this cell to show the HTML representation or trust the notebook. <br />On GitHub, the HTML representation is unable to render, please try loading this page with nbviewer.org.</b></div><div class=\"sk-container\" hidden><div class=\"sk-item\"><div class=\"sk-estimator sk-toggleable\"><input class=\"sk-toggleable__control sk-hidden--visually\" id=\"sk-estimator-id-1\" type=\"checkbox\" checked><label for=\"sk-estimator-id-1\" class=\"sk-toggleable__label sk-toggleable__label-arrow\">LinearRegression</label><div class=\"sk-toggleable__content\"><pre>LinearRegression()</pre></div></div></div></div></div>"
          },
          "metadata": {}
        }
      ]
    },
    {
      "cell_type": "code",
      "source": [
        "ypred=lr.predict(X_test)\n",
        "ypred"
      ],
      "metadata": {
        "execution": {
          "iopub.status.busy": "2023-07-10T07:27:07.185956Z",
          "iopub.execute_input": "2023-07-10T07:27:07.186507Z",
          "iopub.status.idle": "2023-07-10T07:27:07.202151Z",
          "shell.execute_reply.started": "2023-07-10T07:27:07.186463Z",
          "shell.execute_reply": "2023-07-10T07:27:07.200504Z"
        },
        "trusted": true,
        "id": "iWUGh2UWz_qQ",
        "outputId": "dd0fb73c-06f8-4686-9ae7-607d998e7c21"
      },
      "execution_count": null,
      "outputs": [
        {
          "execution_count": 31,
          "output_type": "execute_result",
          "data": {
            "text/plain": "array([3.19905478, 3.19905478, 3.18175366, ..., 3.19980701, 3.18250588,\n       3.19905478])"
          },
          "metadata": {}
        }
      ]
    },
    {
      "cell_type": "markdown",
      "source": [
        "**Calculating r2 value**"
      ],
      "metadata": {
        "id": "V2J3LG11z_qQ"
      }
    },
    {
      "cell_type": "code",
      "source": [
        "from sklearn.metrics import r2_score\n",
        "r_squared=r2_score(y_test,ypred)\n",
        "r_squared"
      ],
      "metadata": {
        "execution": {
          "iopub.status.busy": "2023-07-10T07:30:17.146636Z",
          "iopub.execute_input": "2023-07-10T07:30:17.147218Z",
          "iopub.status.idle": "2023-07-10T07:30:17.163425Z",
          "shell.execute_reply.started": "2023-07-10T07:30:17.147152Z",
          "shell.execute_reply": "2023-07-10T07:30:17.162418Z"
        },
        "trusted": true,
        "id": "adcXpRcsz_qQ",
        "outputId": "6f163087-dfad-43c4-8ef1-686426c39891"
      },
      "execution_count": null,
      "outputs": [
        {
          "execution_count": 35,
          "output_type": "execute_result",
          "data": {
            "text/plain": "2.2455502030949148e-05"
          },
          "metadata": {}
        }
      ]
    },
    {
      "cell_type": "code",
      "source": [
        "import seaborn as sns\n",
        "import matplotlib.pyplot as plt\n",
        "\n",
        "plt.scatter(df['Quantity'],df['Price'],color='Black')\n",
        "plt.plot(X_test,ypred,color='Brown')\n",
        "plt.show()"
      ],
      "metadata": {
        "execution": {
          "iopub.status.busy": "2023-07-10T07:30:21.566148Z",
          "iopub.execute_input": "2023-07-10T07:30:21.566624Z",
          "iopub.status.idle": "2023-07-10T07:30:23.397845Z",
          "shell.execute_reply.started": "2023-07-10T07:30:21.566581Z",
          "shell.execute_reply": "2023-07-10T07:30:23.396308Z"
        },
        "trusted": true,
        "id": "hF1cp00bz_qQ",
        "outputId": "f1ad1c2b-d9e7-4ba2-e207-aa15c6287d21"
      },
      "execution_count": null,
      "outputs": [
        {
          "output_type": "display_data",
          "data": {
            "text/plain": "<Figure size 640x480 with 1 Axes>",
            "image/png": "[encoded data removed]"
          },
          "metadata": {}
        }
      ]
    },
    {
      "cell_type": "markdown",
      "source": [
        "The R squared value should be between 5 - 9.5. However, the observed R2 value is 2.25. Hence, the model is less fit which is evident from the above scatter plot."
      ],
      "metadata": {
        "id": "b2arv-YXz_qQ"
      }
    },
    {
      "cell_type": "markdown",
      "source": [
        "**K-Means Clustering**"
      ],
      "metadata": {
        "id": "iMVexlCcz_qR"
      }
    },
    {
      "cell_type": "code",
      "source": [
        "df[\"Revenue\"] = df[\"Quantity\"] * df[\"Price\"]"
      ],
      "metadata": {
        "execution": {
          "iopub.status.busy": "2023-07-10T07:44:59.132694Z",
          "iopub.execute_input": "2023-07-10T07:44:59.133656Z",
          "iopub.status.idle": "2023-07-10T07:44:59.151539Z",
          "shell.execute_reply.started": "2023-07-10T07:44:59.133597Z",
          "shell.execute_reply": "2023-07-10T07:44:59.150031Z"
        },
        "trusted": true,
        "id": "HE2Q9DOVz_qR"
      },
      "execution_count": null,
      "outputs": []
    },
    {
      "cell_type": "code",
      "source": [
        "print(\"Max date :\",df[\"InvoiceDate\"].max())\n",
        "print(\"Min date :\",df[\"InvoiceDate\"].min())"
      ],
      "metadata": {
        "execution": {
          "iopub.status.busy": "2023-07-10T07:45:14.490704Z",
          "iopub.execute_input": "2023-07-10T07:45:14.491191Z",
          "iopub.status.idle": "2023-07-10T07:45:14.504568Z",
          "shell.execute_reply.started": "2023-07-10T07:45:14.491141Z",
          "shell.execute_reply": "2023-07-10T07:45:14.503163Z"
        },
        "trusted": true,
        "id": "UnfUJNoTz_qR",
        "outputId": "5b3e9c80-361c-4562-fc88-06f171dea895"
      },
      "execution_count": null,
      "outputs": [
        {
          "name": "stdout",
          "text": "Max date : 2011-12-09 12:50:00\nMin date : 2009-12-01 07:45:00\n",
          "output_type": "stream"
        }
      ]
    },
    {
      "cell_type": "code",
      "source": [
        "#Set Latest date 2011-12-10 as last invoice date was 2011-12-09.\n",
        "Latest_Date = dt.datetime(2011,12,10)\n",
        "\n",
        "#Creating RFM features with subset of customerID\n",
        "RFM = df.groupby('Customer ID').agg({'InvoiceDate': lambda x: (Latest_Date - x.max()).days,\n",
        "                                    'Invoice': lambda x: x.nunique(),\n",
        "                                    \"Revenue\": lambda x: x.sum()})\n",
        "\n",
        "RFM['InvoiceDate'] = RFM['InvoiceDate'].astype(int)\n",
        "\n",
        "#Renaming column names to Recency, Frequency and Monetary\n",
        "RFM.rename(columns={'InvoiceDate': 'Recency',\n",
        "                         'Invoice': 'Frequency',\n",
        "                         'Revenue': 'Monetary'}, inplace=True)\n",
        "RFM.reset_index().head().style.set_properties(**{\"background-color\": \"#cd5c5c\",\"color\": \"black\", \"border-color\": \"black\"})"
      ],
      "metadata": {
        "execution": {
          "iopub.status.busy": "2023-07-10T07:47:42.539787Z",
          "iopub.execute_input": "2023-07-10T07:47:42.540241Z",
          "iopub.status.idle": "2023-07-10T07:47:44.992537Z",
          "shell.execute_reply.started": "2023-07-10T07:47:42.540172Z",
          "shell.execute_reply": "2023-07-10T07:47:44.991165Z"
        },
        "trusted": true,
        "id": "RDUmfuHxz_qR",
        "outputId": "5b45ead4-7109-46ea-f0e7-d91a4122d73c"
      },
      "execution_count": null,
      "outputs": [
        {
          "execution_count": 52,
          "output_type": "execute_result",
          "data": {
            "text/plain": "<pandas.io.formats.style.Styler at 0x7ff3f57ca9b0>",
            "text/html": "<style type=\"text/css\">\n#T_82c46_row0_col0, #T_82c46_row0_col1, #T_82c46_row0_col2, #T_82c46_row0_col3, #T_82c46_row1_col0, #T_82c46_row1_col1, #T_82c46_row1_col2, #T_82c46_row1_col3, #T_82c46_row2_col0, #T_82c46_row2_col1, #T_82c46_row2_col2, #T_82c46_row2_col3, #T_82c46_row3_col0, #T_82c46_row3_col1, #T_82c46_row3_col2, #T_82c46_row3_col3, #T_82c46_row4_col0, #T_82c46_row4_col1, #T_82c46_row4_col2, #T_82c46_row4_col3 {\n  background-color: #cd5c5c;\n  color: black;\n  border-color: black;\n}\n</style>\n<table id=\"T_82c46\">\n  <thead>\n    <tr>\n      <th class=\"blank level0\" >&nbsp;</th>\n      <th id=\"T_82c46_level0_col0\" class=\"col_heading level0 col0\" >Customer ID</th>\n      <th id=\"T_82c46_level0_col1\" class=\"col_heading level0 col1\" >Recency</th>\n      <th id=\"T_82c46_level0_col2\" class=\"col_heading level0 col2\" >Frequency</th>\n      <th id=\"T_82c46_level0_col3\" class=\"col_heading level0 col3\" >Monetary</th>\n    </tr>\n  </thead>\n  <tbody>\n    <tr>\n      <th id=\"T_82c46_level0_row0\" class=\"row_heading level0 row0\" >0</th>\n      <td id=\"T_82c46_row0_col0\" class=\"data row0 col0\" >12346.000000</td>\n      <td id=\"T_82c46_row0_col1\" class=\"data row0 col1\" >325</td>\n      <td id=\"T_82c46_row0_col2\" class=\"data row0 col2\" >12</td>\n      <td id=\"T_82c46_row0_col3\" class=\"data row0 col3\" >704.100000</td>\n    </tr>\n    <tr>\n      <th id=\"T_82c46_level0_row1\" class=\"row_heading level0 row1\" >1</th>\n      <td id=\"T_82c46_row1_col0\" class=\"data row1 col0\" >12347.000000</td>\n      <td id=\"T_82c46_row1_col1\" class=\"data row1 col1\" >2</td>\n      <td id=\"T_82c46_row1_col2\" class=\"data row1 col2\" >8</td>\n      <td id=\"T_82c46_row1_col3\" class=\"data row1 col3\" >5633.320000</td>\n    </tr>\n    <tr>\n      <th id=\"T_82c46_level0_row2\" class=\"row_heading level0 row2\" >2</th>\n      <td id=\"T_82c46_row2_col0\" class=\"data row2 col0\" >12348.000000</td>\n      <td id=\"T_82c46_row2_col1\" class=\"data row2 col1\" >75</td>\n      <td id=\"T_82c46_row2_col2\" class=\"data row2 col2\" >5</td>\n      <td id=\"T_82c46_row2_col3\" class=\"data row2 col3\" >1991.860000</td>\n    </tr>\n    <tr>\n      <th id=\"T_82c46_level0_row3\" class=\"row_heading level0 row3\" >3</th>\n      <td id=\"T_82c46_row3_col0\" class=\"data row3 col0\" >12349.000000</td>\n      <td id=\"T_82c46_row3_col1\" class=\"data row3 col1\" >18</td>\n      <td id=\"T_82c46_row3_col2\" class=\"data row3 col2\" >4</td>\n      <td id=\"T_82c46_row3_col3\" class=\"data row3 col3\" >3786.500000</td>\n    </tr>\n    <tr>\n      <th id=\"T_82c46_level0_row4\" class=\"row_heading level0 row4\" >4</th>\n      <td id=\"T_82c46_row4_col0\" class=\"data row4 col0\" >12350.000000</td>\n      <td id=\"T_82c46_row4_col1\" class=\"data row4 col1\" >310</td>\n      <td id=\"T_82c46_row4_col2\" class=\"data row4 col2\" >1</td>\n      <td id=\"T_82c46_row4_col3\" class=\"data row4 col3\" >331.340000</td>\n    </tr>\n  </tbody>\n</table>\n"
          },
          "metadata": {}
        }
      ]
    },
    {
      "cell_type": "code",
      "source": [
        "RFM = RFM[(RFM[\"Frequency\"]>1)]\n",
        "RFM.head().style.set_properties(**{\"background-color\": \"#cd5c5c\",\"color\": \"black\", \"border-color\": \"black\"})"
      ],
      "metadata": {
        "execution": {
          "iopub.status.busy": "2023-07-10T07:48:07.494445Z",
          "iopub.execute_input": "2023-07-10T07:48:07.495134Z",
          "iopub.status.idle": "2023-07-10T07:48:07.513205Z",
          "shell.execute_reply.started": "2023-07-10T07:48:07.495088Z",
          "shell.execute_reply": "2023-07-10T07:48:07.511355Z"
        },
        "trusted": true,
        "id": "V99m1YkHz_qR",
        "outputId": "eb20fee4-d147-4be2-b7fa-29d5ca4ae6ba"
      },
      "execution_count": null,
      "outputs": [
        {
          "execution_count": 53,
          "output_type": "execute_result",
          "data": {
            "text/plain": "<pandas.io.formats.style.Styler at 0x7ff3f58808e0>",
            "text/html": "<style type=\"text/css\">\n#T_12c6c_row0_col0, #T_12c6c_row0_col1, #T_12c6c_row0_col2, #T_12c6c_row1_col0, #T_12c6c_row1_col1, #T_12c6c_row1_col2, #T_12c6c_row2_col0, #T_12c6c_row2_col1, #T_12c6c_row2_col2, #T_12c6c_row3_col0, #T_12c6c_row3_col1, #T_12c6c_row3_col2, #T_12c6c_row4_col0, #T_12c6c_row4_col1, #T_12c6c_row4_col2 {\n  background-color: #cd5c5c;\n  color: black;\n  border-color: black;\n}\n</style>\n<table id=\"T_12c6c\">\n  <thead>\n    <tr>\n      <th class=\"blank level0\" >&nbsp;</th>\n      <th id=\"T_12c6c_level0_col0\" class=\"col_heading level0 col0\" >Recency</th>\n      <th id=\"T_12c6c_level0_col1\" class=\"col_heading level0 col1\" >Frequency</th>\n      <th id=\"T_12c6c_level0_col2\" class=\"col_heading level0 col2\" >Monetary</th>\n    </tr>\n    <tr>\n      <th class=\"index_name level0\" >Customer ID</th>\n      <th class=\"blank col0\" >&nbsp;</th>\n      <th class=\"blank col1\" >&nbsp;</th>\n      <th class=\"blank col2\" >&nbsp;</th>\n    </tr>\n  </thead>\n  <tbody>\n    <tr>\n      <th id=\"T_12c6c_level0_row0\" class=\"row_heading level0 row0\" >12346.000000</th>\n      <td id=\"T_12c6c_row0_col0\" class=\"data row0 col0\" >325</td>\n      <td id=\"T_12c6c_row0_col1\" class=\"data row0 col1\" >12</td>\n      <td id=\"T_12c6c_row0_col2\" class=\"data row0 col2\" >704.100000</td>\n    </tr>\n    <tr>\n      <th id=\"T_12c6c_level0_row1\" class=\"row_heading level0 row1\" >12347.000000</th>\n      <td id=\"T_12c6c_row1_col0\" class=\"data row1 col0\" >2</td>\n      <td id=\"T_12c6c_row1_col1\" class=\"data row1 col1\" >8</td>\n      <td id=\"T_12c6c_row1_col2\" class=\"data row1 col2\" >5633.320000</td>\n    </tr>\n    <tr>\n      <th id=\"T_12c6c_level0_row2\" class=\"row_heading level0 row2\" >12348.000000</th>\n      <td id=\"T_12c6c_row2_col0\" class=\"data row2 col0\" >75</td>\n      <td id=\"T_12c6c_row2_col1\" class=\"data row2 col1\" >5</td>\n      <td id=\"T_12c6c_row2_col2\" class=\"data row2 col2\" >1991.860000</td>\n    </tr>\n    <tr>\n      <th id=\"T_12c6c_level0_row3\" class=\"row_heading level0 row3\" >12349.000000</th>\n      <td id=\"T_12c6c_row3_col0\" class=\"data row3 col0\" >18</td>\n      <td id=\"T_12c6c_row3_col1\" class=\"data row3 col1\" >4</td>\n      <td id=\"T_12c6c_row3_col2\" class=\"data row3 col2\" >3786.500000</td>\n    </tr>\n    <tr>\n      <th id=\"T_12c6c_level0_row4\" class=\"row_heading level0 row4\" >12352.000000</th>\n      <td id=\"T_12c6c_row4_col0\" class=\"data row4 col0\" >36</td>\n      <td id=\"T_12c6c_row4_col1\" class=\"data row4 col1\" >10</td>\n      <td id=\"T_12c6c_row4_col2\" class=\"data row4 col2\" >2098.940000</td>\n    </tr>\n  </tbody>\n</table>\n"
          },
          "metadata": {}
        }
      ]
    },
    {
      "cell_type": "code",
      "source": [
        "Shopping_Cycle = df.groupby('Customer ID').agg({'InvoiceDate': lambda x: ((x.max() - x.min()).days)})\n",
        "RFM[\"Shopping_Cycle\"] = Shopping_Cycle\n",
        "RFM.head().style.set_properties(**{\"background-color\": \"#cd5c5c\",\"color\": \"black\", \"border-color\": \"black\"})"
      ],
      "metadata": {
        "execution": {
          "iopub.status.busy": "2023-07-10T07:49:02.849932Z",
          "iopub.execute_input": "2023-07-10T07:49:02.851748Z",
          "iopub.status.idle": "2023-07-10T07:49:04.442907Z",
          "shell.execute_reply.started": "2023-07-10T07:49:02.851675Z",
          "shell.execute_reply": "2023-07-10T07:49:04.441762Z"
        },
        "trusted": true,
        "id": "IdZoQYNgz_qW",
        "outputId": "db8483e8-d48f-4fd8-ec79-f7ceaa78368d"
      },
      "execution_count": null,
      "outputs": [
        {
          "execution_count": 54,
          "output_type": "execute_result",
          "data": {
            "text/plain": "<pandas.io.formats.style.Styler at 0x7ff3f57ca6e0>",
            "text/html": "<style type=\"text/css\">\n#T_a7f39_row0_col0, #T_a7f39_row0_col1, #T_a7f39_row0_col2, #T_a7f39_row0_col3, #T_a7f39_row1_col0, #T_a7f39_row1_col1, #T_a7f39_row1_col2, #T_a7f39_row1_col3, #T_a7f39_row2_col0, #T_a7f39_row2_col1, #T_a7f39_row2_col2, #T_a7f39_row2_col3, #T_a7f39_row3_col0, #T_a7f39_row3_col1, #T_a7f39_row3_col2, #T_a7f39_row3_col3, #T_a7f39_row4_col0, #T_a7f39_row4_col1, #T_a7f39_row4_col2, #T_a7f39_row4_col3 {\n  background-color: #cd5c5c;\n  color: black;\n  border-color: black;\n}\n</style>\n<table id=\"T_a7f39\">\n  <thead>\n    <tr>\n      <th class=\"blank level0\" >&nbsp;</th>\n      <th id=\"T_a7f39_level0_col0\" class=\"col_heading level0 col0\" >Recency</th>\n      <th id=\"T_a7f39_level0_col1\" class=\"col_heading level0 col1\" >Frequency</th>\n      <th id=\"T_a7f39_level0_col2\" class=\"col_heading level0 col2\" >Monetary</th>\n      <th id=\"T_a7f39_level0_col3\" class=\"col_heading level0 col3\" >Shopping_Cycle</th>\n    </tr>\n    <tr>\n      <th class=\"index_name level0\" >Customer ID</th>\n      <th class=\"blank col0\" >&nbsp;</th>\n      <th class=\"blank col1\" >&nbsp;</th>\n      <th class=\"blank col2\" >&nbsp;</th>\n      <th class=\"blank col3\" >&nbsp;</th>\n    </tr>\n  </thead>\n  <tbody>\n    <tr>\n      <th id=\"T_a7f39_level0_row0\" class=\"row_heading level0 row0\" >12346.000000</th>\n      <td id=\"T_a7f39_row0_col0\" class=\"data row0 col0\" >325</td>\n      <td id=\"T_a7f39_row0_col1\" class=\"data row0 col1\" >12</td>\n      <td id=\"T_a7f39_row0_col2\" class=\"data row0 col2\" >704.100000</td>\n      <td id=\"T_a7f39_row0_col3\" class=\"data row0 col3\" >400</td>\n    </tr>\n    <tr>\n      <th id=\"T_a7f39_level0_row1\" class=\"row_heading level0 row1\" >12347.000000</th>\n      <td id=\"T_a7f39_row1_col0\" class=\"data row1 col0\" >2</td>\n      <td id=\"T_a7f39_row1_col1\" class=\"data row1 col1\" >8</td>\n      <td id=\"T_a7f39_row1_col2\" class=\"data row1 col2\" >5633.320000</td>\n      <td id=\"T_a7f39_row1_col3\" class=\"data row1 col3\" >402</td>\n    </tr>\n    <tr>\n      <th id=\"T_a7f39_level0_row2\" class=\"row_heading level0 row2\" >12348.000000</th>\n      <td id=\"T_a7f39_row2_col0\" class=\"data row2 col0\" >75</td>\n      <td id=\"T_a7f39_row2_col1\" class=\"data row2 col1\" >5</td>\n      <td id=\"T_a7f39_row2_col2\" class=\"data row2 col2\" >1991.860000</td>\n      <td id=\"T_a7f39_row2_col3\" class=\"data row2 col3\" >362</td>\n    </tr>\n    <tr>\n      <th id=\"T_a7f39_level0_row3\" class=\"row_heading level0 row3\" >12349.000000</th>\n      <td id=\"T_a7f39_row3_col0\" class=\"data row3 col0\" >18</td>\n      <td id=\"T_a7f39_row3_col1\" class=\"data row3 col1\" >4</td>\n      <td id=\"T_a7f39_row3_col2\" class=\"data row3 col2\" >3786.500000</td>\n      <td id=\"T_a7f39_row3_col3\" class=\"data row3 col3\" >570</td>\n    </tr>\n    <tr>\n      <th id=\"T_a7f39_level0_row4\" class=\"row_heading level0 row4\" >12352.000000</th>\n      <td id=\"T_a7f39_row4_col0\" class=\"data row4 col0\" >36</td>\n      <td id=\"T_a7f39_row4_col1\" class=\"data row4 col1\" >10</td>\n      <td id=\"T_a7f39_row4_col2\" class=\"data row4 col2\" >2098.940000</td>\n      <td id=\"T_a7f39_row4_col3\" class=\"data row4 col3\" >356</td>\n    </tr>\n  </tbody>\n</table>\n"
          },
          "metadata": {}
        }
      ]
    },
    {
      "cell_type": "code",
      "source": [
        "RFM[\"Interpurchase_Time\"] = RFM[\"Shopping_Cycle\"] // RFM[\"Frequency\"]\n",
        "RFMT = RFM[[\"Recency\",\"Frequency\",\"Monetary\",\"Interpurchase_Time\"]]\n",
        "RFMT.head().style.set_properties(**{\"background-color\": \"#cd5c5c\",\"color\": \"black\", \"border-color\": \"black\"})"
      ],
      "metadata": {
        "execution": {
          "iopub.status.busy": "2023-07-10T07:49:24.090862Z",
          "iopub.execute_input": "2023-07-10T07:49:24.091344Z",
          "iopub.status.idle": "2023-07-10T07:49:24.112843Z",
          "shell.execute_reply.started": "2023-07-10T07:49:24.091307Z",
          "shell.execute_reply": "2023-07-10T07:49:24.111639Z"
        },
        "trusted": true,
        "id": "73TsFrBsz_qW",
        "outputId": "e4b1db0b-7112-41d2-c38f-a2c6f4785230"
      },
      "execution_count": null,
      "outputs": [
        {
          "execution_count": 55,
          "output_type": "execute_result",
          "data": {
            "text/plain": "<pandas.io.formats.style.Styler at 0x7ff3f57072e0>",
            "text/html": "<style type=\"text/css\">\n#T_1b269_row0_col0, #T_1b269_row0_col1, #T_1b269_row0_col2, #T_1b269_row0_col3, #T_1b269_row1_col0, #T_1b269_row1_col1, #T_1b269_row1_col2, #T_1b269_row1_col3, #T_1b269_row2_col0, #T_1b269_row2_col1, #T_1b269_row2_col2, #T_1b269_row2_col3, #T_1b269_row3_col0, #T_1b269_row3_col1, #T_1b269_row3_col2, #T_1b269_row3_col3, #T_1b269_row4_col0, #T_1b269_row4_col1, #T_1b269_row4_col2, #T_1b269_row4_col3 {\n  background-color: #cd5c5c;\n  color: black;\n  border-color: black;\n}\n</style>\n<table id=\"T_1b269\">\n  <thead>\n    <tr>\n      <th class=\"blank level0\" >&nbsp;</th>\n      <th id=\"T_1b269_level0_col0\" class=\"col_heading level0 col0\" >Recency</th>\n      <th id=\"T_1b269_level0_col1\" class=\"col_heading level0 col1\" >Frequency</th>\n      <th id=\"T_1b269_level0_col2\" class=\"col_heading level0 col2\" >Monetary</th>\n      <th id=\"T_1b269_level0_col3\" class=\"col_heading level0 col3\" >Interpurchase_Time</th>\n    </tr>\n    <tr>\n      <th class=\"index_name level0\" >Customer ID</th>\n      <th class=\"blank col0\" >&nbsp;</th>\n      <th class=\"blank col1\" >&nbsp;</th>\n      <th class=\"blank col2\" >&nbsp;</th>\n      <th class=\"blank col3\" >&nbsp;</th>\n    </tr>\n  </thead>\n  <tbody>\n    <tr>\n      <th id=\"T_1b269_level0_row0\" class=\"row_heading level0 row0\" >12346.000000</th>\n      <td id=\"T_1b269_row0_col0\" class=\"data row0 col0\" >325</td>\n      <td id=\"T_1b269_row0_col1\" class=\"data row0 col1\" >12</td>\n      <td id=\"T_1b269_row0_col2\" class=\"data row0 col2\" >704.100000</td>\n      <td id=\"T_1b269_row0_col3\" class=\"data row0 col3\" >33</td>\n    </tr>\n    <tr>\n      <th id=\"T_1b269_level0_row1\" class=\"row_heading level0 row1\" >12347.000000</th>\n      <td id=\"T_1b269_row1_col0\" class=\"data row1 col0\" >2</td>\n      <td id=\"T_1b269_row1_col1\" class=\"data row1 col1\" >8</td>\n      <td id=\"T_1b269_row1_col2\" class=\"data row1 col2\" >5633.320000</td>\n      <td id=\"T_1b269_row1_col3\" class=\"data row1 col3\" >50</td>\n    </tr>\n    <tr>\n      <th id=\"T_1b269_level0_row2\" class=\"row_heading level0 row2\" >12348.000000</th>\n      <td id=\"T_1b269_row2_col0\" class=\"data row2 col0\" >75</td>\n      <td id=\"T_1b269_row2_col1\" class=\"data row2 col1\" >5</td>\n      <td id=\"T_1b269_row2_col2\" class=\"data row2 col2\" >1991.860000</td>\n      <td id=\"T_1b269_row2_col3\" class=\"data row2 col3\" >72</td>\n    </tr>\n    <tr>\n      <th id=\"T_1b269_level0_row3\" class=\"row_heading level0 row3\" >12349.000000</th>\n      <td id=\"T_1b269_row3_col0\" class=\"data row3 col0\" >18</td>\n      <td id=\"T_1b269_row3_col1\" class=\"data row3 col1\" >4</td>\n      <td id=\"T_1b269_row3_col2\" class=\"data row3 col2\" >3786.500000</td>\n      <td id=\"T_1b269_row3_col3\" class=\"data row3 col3\" >142</td>\n    </tr>\n    <tr>\n      <th id=\"T_1b269_level0_row4\" class=\"row_heading level0 row4\" >12352.000000</th>\n      <td id=\"T_1b269_row4_col0\" class=\"data row4 col0\" >36</td>\n      <td id=\"T_1b269_row4_col1\" class=\"data row4 col1\" >10</td>\n      <td id=\"T_1b269_row4_col2\" class=\"data row4 col2\" >2098.940000</td>\n      <td id=\"T_1b269_row4_col3\" class=\"data row4 col3\" >35</td>\n    </tr>\n  </tbody>\n</table>\n"
          },
          "metadata": {}
        }
      ]
    },
    {
      "cell_type": "markdown",
      "source": [
        "**Modelling with KMeans Algorithm**"
      ],
      "metadata": {
        "id": "8yY4CbMoz_qW"
      }
    },
    {
      "cell_type": "code",
      "source": [
        "from sklearn.cluster import KMeans\n",
        "from sklearn.preprocessing import StandardScaler\n",
        "from yellowbrick.cluster import KElbowVisualizer\n",
        "from numpy import math\n",
        "import warnings\n",
        "warnings.simplefilter(action='ignore', category=FutureWarning)\n",
        "\n",
        "# Finding initial K value using Elbow Method\n",
        "plt.figure(figsize=(10,5))\n",
        "ax = plt.axes()\n",
        "ax.set_facecolor(\"#cd5c5c\")\n",
        "Elbow_M = KElbowVisualizer(KMeans(), k=10)\n",
        "Elbow_M.fit(RFMT)\n",
        "Elbow_M.show()\n",
        "print(\"Therefore K = 4\")"
      ],
      "metadata": {
        "execution": {
          "iopub.status.busy": "2023-07-10T07:51:28.958397Z",
          "iopub.execute_input": "2023-07-10T07:51:28.958817Z",
          "iopub.status.idle": "2023-07-10T07:51:40.368568Z",
          "shell.execute_reply.started": "2023-07-10T07:51:28.958786Z",
          "shell.execute_reply": "2023-07-10T07:51:40.367100Z"
        },
        "trusted": true,
        "id": "4YQ2GXEVz_qW",
        "outputId": "af1fabd1-3104-4b7a-b978-65229f6716c8"
      },
      "execution_count": null,
      "outputs": [
        {
          "output_type": "display_data",
          "data": {
            "text/plain": "<Figure size 1000x500 with 2 Axes>",
            "image/png": "[encoded data removed]"
          },
          "metadata": {}
        },
        {
          "name": "stdout",
          "text": "Therefore K = 4\n",
          "output_type": "stream"
        }
      ]
    },
    {
      "cell_type": "code",
      "source": [
        "#Fitting KMeans Model\n",
        "kmeans = KMeans(n_clusters=4,max_iter=50)\n",
        "kmeans.fit(RFMT)"
      ],
      "metadata": {
        "execution": {
          "iopub.status.busy": "2023-07-10T07:52:02.277661Z",
          "iopub.execute_input": "2023-07-10T07:52:02.279444Z",
          "iopub.status.idle": "2023-07-10T07:52:03.894634Z",
          "shell.execute_reply.started": "2023-07-10T07:52:02.279388Z",
          "shell.execute_reply": "2023-07-10T07:52:03.892894Z"
        },
        "trusted": true,
        "id": "9kATb8eQz_qX",
        "outputId": "a4e0846d-ce01-4f5e-b9e0-d1f92e9cd2b9"
      },
      "execution_count": null,
      "outputs": [
        {
          "execution_count": 58,
          "output_type": "execute_result",
          "data": {
            "text/plain": "KMeans(max_iter=50, n_clusters=4)",
            "text/html": "<style>#sk-container-id-2 {color: black;background-color: white;}#sk-container-id-2 pre{padding: 0;}#sk-container-id-2 div.sk-toggleable {background-color: white;}#sk-container-id-2 label.sk-toggleable__label {cursor: pointer;display: block;width: 100%;margin-bottom: 0;padding: 0.3em;box-sizing: border-box;text-align: center;}#sk-container-id-2 label.sk-toggleable__label-arrow:before {content: \"▸\";float: left;margin-right: 0.25em;color: #696969;}#sk-container-id-2 label.sk-toggleable__label-arrow:hover:before {color: black;}#sk-container-id-2 div.sk-estimator:hover label.sk-toggleable__label-arrow:before {color: black;}#sk-container-id-2 div.sk-toggleable__content {max-height: 0;max-width: 0;overflow: hidden;text-align: left;background-color: #f0f8ff;}#sk-container-id-2 div.sk-toggleable__content pre {margin: 0.2em;color: black;border-radius: 0.25em;background-color: #f0f8ff;}#sk-container-id-2 input.sk-toggleable__control:checked~div.sk-toggleable__content {max-height: 200px;max-width: 100%;overflow: auto;}#sk-container-id-2 input.sk-toggleable__control:checked~label.sk-toggleable__label-arrow:before {content: \"▾\";}#sk-container-id-2 div.sk-estimator input.sk-toggleable__control:checked~label.sk-toggleable__label {background-color: #d4ebff;}#sk-container-id-2 div.sk-label input.sk-toggleable__control:checked~label.sk-toggleable__label {background-color: #d4ebff;}#sk-container-id-2 input.sk-hidden--visually {border: 0;clip: rect(1px 1px 1px 1px);clip: rect(1px, 1px, 1px, 1px);height: 1px;margin: -1px;overflow: hidden;padding: 0;position: absolute;width: 1px;}#sk-container-id-2 div.sk-estimator {font-family: monospace;background-color: #f0f8ff;border: 1px dotted black;border-radius: 0.25em;box-sizing: border-box;margin-bottom: 0.5em;}#sk-container-id-2 div.sk-estimator:hover {background-color: #d4ebff;}#sk-container-id-2 div.sk-parallel-item::after {content: \"\";width: 100%;border-bottom: 1px solid gray;flex-grow: 1;}#sk-container-id-2 div.sk-label:hover label.sk-toggleable__label {background-color: #d4ebff;}#sk-container-id-2 div.sk-serial::before {content: \"\";position: absolute;border-left: 1px solid gray;box-sizing: border-box;top: 0;bottom: 0;left: 50%;z-index: 0;}#sk-container-id-2 div.sk-serial {display: flex;flex-direction: column;align-items: center;background-color: white;padding-right: 0.2em;padding-left: 0.2em;position: relative;}#sk-container-id-2 div.sk-item {position: relative;z-index: 1;}#sk-container-id-2 div.sk-parallel {display: flex;align-items: stretch;justify-content: center;background-color: white;position: relative;}#sk-container-id-2 div.sk-item::before, #sk-container-id-2 div.sk-parallel-item::before {content: \"\";position: absolute;border-left: 1px solid gray;box-sizing: border-box;top: 0;bottom: 0;left: 50%;z-index: -1;}#sk-container-id-2 div.sk-parallel-item {display: flex;flex-direction: column;z-index: 1;position: relative;background-color: white;}#sk-container-id-2 div.sk-parallel-item:first-child::after {align-self: flex-end;width: 50%;}#sk-container-id-2 div.sk-parallel-item:last-child::after {align-self: flex-start;width: 50%;}#sk-container-id-2 div.sk-parallel-item:only-child::after {width: 0;}#sk-container-id-2 div.sk-dashed-wrapped {border: 1px dashed gray;margin: 0 0.4em 0.5em 0.4em;box-sizing: border-box;padding-bottom: 0.4em;background-color: white;}#sk-container-id-2 div.sk-label label {font-family: monospace;font-weight: bold;display: inline-block;line-height: 1.2em;}#sk-container-id-2 div.sk-label-container {text-align: center;}#sk-container-id-2 div.sk-container {/* jupyter's `normalize.less` sets `[hidden] { display: none; }` but bootstrap.min.css set `[hidden] { display: none !important; }` so we also need the `!important` here to be able to override the default hidden behavior on the sphinx rendered scikit-learn.org. See: https://github.com/scikit-learn/scikit-learn/issues/21755 */display: inline-block !important;position: relative;}#sk-container-id-2 div.sk-text-repr-fallback {display: none;}</style><div id=\"sk-container-id-2\" class=\"sk-top-container\"><div class=\"sk-text-repr-fallback\"><pre>KMeans(max_iter=50, n_clusters=4)</pre><b>In a Jupyter environment, please rerun this cell to show the HTML representation or trust the notebook. <br />On GitHub, the HTML representation is unable to render, please try loading this page with nbviewer.org.</b></div><div class=\"sk-container\" hidden><div class=\"sk-item\"><div class=\"sk-estimator sk-toggleable\"><input class=\"sk-toggleable__control sk-hidden--visually\" id=\"sk-estimator-id-2\" type=\"checkbox\" checked><label for=\"sk-estimator-id-2\" class=\"sk-toggleable__label sk-toggleable__label-arrow\">KMeans</label><div class=\"sk-toggleable__content\"><pre>KMeans(max_iter=50, n_clusters=4)</pre></div></div></div></div></div>"
          },
          "metadata": {}
        }
      ]
    },
    {
      "cell_type": "code",
      "source": [
        "RFMT[\"Clusters\"]=kmeans.labels_\n",
        "RFMT.head().style.set_properties(**{\"background-color\": \"#cd5c5c\",\"color\": \"black\", \"border-color\": \"black\"}) # ALL Clusters 1 means they exhibit similar RFM behavior and inter-purchase time patterns based on the K-means clustering."
      ],
      "metadata": {
        "execution": {
          "iopub.status.busy": "2023-07-10T07:52:36.203607Z",
          "iopub.execute_input": "2023-07-10T07:52:36.204058Z",
          "iopub.status.idle": "2023-07-10T07:52:36.223402Z",
          "shell.execute_reply.started": "2023-07-10T07:52:36.204026Z",
          "shell.execute_reply": "2023-07-10T07:52:36.221690Z"
        },
        "trusted": true,
        "id": "xnF3L9ixz_qX",
        "outputId": "2667707d-ccc8-41cd-b3ac-fd53f3b9a45a"
      },
      "execution_count": null,
      "outputs": [
        {
          "execution_count": 59,
          "output_type": "execute_result",
          "data": {
            "text/plain": "<pandas.io.formats.style.Styler at 0x7ff3f13f3400>",
            "text/html": "<style type=\"text/css\">\n#T_b5bfa_row0_col0, #T_b5bfa_row0_col1, #T_b5bfa_row0_col2, #T_b5bfa_row0_col3, #T_b5bfa_row0_col4, #T_b5bfa_row1_col0, #T_b5bfa_row1_col1, #T_b5bfa_row1_col2, #T_b5bfa_row1_col3, #T_b5bfa_row1_col4, #T_b5bfa_row2_col0, #T_b5bfa_row2_col1, #T_b5bfa_row2_col2, #T_b5bfa_row2_col3, #T_b5bfa_row2_col4, #T_b5bfa_row3_col0, #T_b5bfa_row3_col1, #T_b5bfa_row3_col2, #T_b5bfa_row3_col3, #T_b5bfa_row3_col4, #T_b5bfa_row4_col0, #T_b5bfa_row4_col1, #T_b5bfa_row4_col2, #T_b5bfa_row4_col3, #T_b5bfa_row4_col4 {\n  background-color: #cd5c5c;\n  color: black;\n  border-color: black;\n}\n</style>\n<table id=\"T_b5bfa\">\n  <thead>\n    <tr>\n      <th class=\"blank level0\" >&nbsp;</th>\n      <th id=\"T_b5bfa_level0_col0\" class=\"col_heading level0 col0\" >Recency</th>\n      <th id=\"T_b5bfa_level0_col1\" class=\"col_heading level0 col1\" >Frequency</th>\n      <th id=\"T_b5bfa_level0_col2\" class=\"col_heading level0 col2\" >Monetary</th>\n      <th id=\"T_b5bfa_level0_col3\" class=\"col_heading level0 col3\" >Interpurchase_Time</th>\n      <th id=\"T_b5bfa_level0_col4\" class=\"col_heading level0 col4\" >Clusters</th>\n    </tr>\n    <tr>\n      <th class=\"index_name level0\" >Customer ID</th>\n      <th class=\"blank col0\" >&nbsp;</th>\n      <th class=\"blank col1\" >&nbsp;</th>\n      <th class=\"blank col2\" >&nbsp;</th>\n      <th class=\"blank col3\" >&nbsp;</th>\n      <th class=\"blank col4\" >&nbsp;</th>\n    </tr>\n  </thead>\n  <tbody>\n    <tr>\n      <th id=\"T_b5bfa_level0_row0\" class=\"row_heading level0 row0\" >12346.000000</th>\n      <td id=\"T_b5bfa_row0_col0\" class=\"data row0 col0\" >325</td>\n      <td id=\"T_b5bfa_row0_col1\" class=\"data row0 col1\" >12</td>\n      <td id=\"T_b5bfa_row0_col2\" class=\"data row0 col2\" >704.100000</td>\n      <td id=\"T_b5bfa_row0_col3\" class=\"data row0 col3\" >33</td>\n      <td id=\"T_b5bfa_row0_col4\" class=\"data row0 col4\" >1</td>\n    </tr>\n    <tr>\n      <th id=\"T_b5bfa_level0_row1\" class=\"row_heading level0 row1\" >12347.000000</th>\n      <td id=\"T_b5bfa_row1_col0\" class=\"data row1 col0\" >2</td>\n      <td id=\"T_b5bfa_row1_col1\" class=\"data row1 col1\" >8</td>\n      <td id=\"T_b5bfa_row1_col2\" class=\"data row1 col2\" >5633.320000</td>\n      <td id=\"T_b5bfa_row1_col3\" class=\"data row1 col3\" >50</td>\n      <td id=\"T_b5bfa_row1_col4\" class=\"data row1 col4\" >1</td>\n    </tr>\n    <tr>\n      <th id=\"T_b5bfa_level0_row2\" class=\"row_heading level0 row2\" >12348.000000</th>\n      <td id=\"T_b5bfa_row2_col0\" class=\"data row2 col0\" >75</td>\n      <td id=\"T_b5bfa_row2_col1\" class=\"data row2 col1\" >5</td>\n      <td id=\"T_b5bfa_row2_col2\" class=\"data row2 col2\" >1991.860000</td>\n      <td id=\"T_b5bfa_row2_col3\" class=\"data row2 col3\" >72</td>\n      <td id=\"T_b5bfa_row2_col4\" class=\"data row2 col4\" >1</td>\n    </tr>\n    <tr>\n      <th id=\"T_b5bfa_level0_row3\" class=\"row_heading level0 row3\" >12349.000000</th>\n      <td id=\"T_b5bfa_row3_col0\" class=\"data row3 col0\" >18</td>\n      <td id=\"T_b5bfa_row3_col1\" class=\"data row3 col1\" >4</td>\n      <td id=\"T_b5bfa_row3_col2\" class=\"data row3 col2\" >3786.500000</td>\n      <td id=\"T_b5bfa_row3_col3\" class=\"data row3 col3\" >142</td>\n      <td id=\"T_b5bfa_row3_col4\" class=\"data row3 col4\" >1</td>\n    </tr>\n    <tr>\n      <th id=\"T_b5bfa_level0_row4\" class=\"row_heading level0 row4\" >12352.000000</th>\n      <td id=\"T_b5bfa_row4_col0\" class=\"data row4 col0\" >36</td>\n      <td id=\"T_b5bfa_row4_col1\" class=\"data row4 col1\" >10</td>\n      <td id=\"T_b5bfa_row4_col2\" class=\"data row4 col2\" >2098.940000</td>\n      <td id=\"T_b5bfa_row4_col3\" class=\"data row4 col3\" >35</td>\n      <td id=\"T_b5bfa_row4_col4\" class=\"data row4 col4\" >1</td>\n    </tr>\n  </tbody>\n</table>\n"
          },
          "metadata": {}
        }
      ]
    },
    {
      "cell_type": "markdown",
      "source": [
        "**Model : Evaluation**"
      ],
      "metadata": {
        "id": "FdwHuuZEz_qX"
      }
    },
    {
      "cell_type": "code",
      "source": [
        "kmeans.cluster_centers_"
      ],
      "metadata": {
        "execution": {
          "iopub.status.busy": "2023-07-10T07:53:29.799033Z",
          "iopub.execute_input": "2023-07-10T07:53:29.799716Z",
          "iopub.status.idle": "2023-07-10T07:53:29.810983Z",
          "shell.execute_reply.started": "2023-07-10T07:53:29.799679Z",
          "shell.execute_reply": "2023-07-10T07:53:29.809513Z"
        },
        "trusted": true,
        "id": "OiIhY6oLz_qX",
        "outputId": "b7247237-4380-47a6-e81d-5250507182c0"
      },
      "execution_count": null,
      "outputs": [
        {
          "execution_count": 60,
          "output_type": "execute_result",
          "data": {
            "text/plain": "array([[3.25000000e+01, 5.45750000e+01, 3.68835138e+04, 1.87750000e+01],\n       [1.44685804e+02, 7.02786452e+00, 2.48159656e+03, 7.00518857e+01],\n       [5.00000000e-01, 1.48500000e+02, 5.23970588e+05, 4.50000000e+00],\n       [5.60000000e+00, 1.42900000e+02, 1.76210678e+05, 7.10000000e+00]])"
          },
          "metadata": {}
        }
      ]
    },
    {
      "cell_type": "code",
      "source": [
        "# grouping the data in accorandance with each cluster seperately\n",
        "one = RFMT[RFMT[\"Clusters\"]==0]\n",
        "two = RFMT[RFMT[\"Clusters\"]==1]\n",
        "three = RFMT[RFMT[\"Clusters\"]==2]\n",
        "four = RFMT[RFMT[\"Clusters\"]==3]\n",
        "\n",
        "#Checking the quality of clustering in the data set\n",
        "plt.figure(figsize=(10,5))\n",
        "ax = plt.axes()\n",
        "ax.set_facecolor(\"#cd5c5c\")\n",
        "plt.scatter(one[\"Recency\"],one[\"Frequency\"],color='green')# Scatter plot for Cluster 0 (one)\n",
        "plt.scatter(two[\"Recency\"],two[\"Frequency\"],color='red')# Scatter plot for Cluster 1 (two)\n",
        "plt.scatter(three[\"Recency\"],three[\"Frequency\"],color='grey') # Scatter plot for Cluster 2 (three)\n",
        "plt.scatter(four[\"Recency\"],four[\"Frequency\"],color='blue') # Scatter plot for Cluster 3 (four)\n",
        "plt.scatter(kmeans.cluster_centers_[:,0],kmeans.cluster_centers_[:,1],color=\"yellow\",marker=\"*\",label=\"centroid\") # Scatter plot for cluster centroids\n",
        "plt.legend()\n",
        "plt.show"
      ],
      "metadata": {
        "execution": {
          "iopub.status.busy": "2023-07-10T07:54:01.681869Z",
          "iopub.execute_input": "2023-07-10T07:54:01.682303Z",
          "iopub.status.idle": "2023-07-10T07:54:02.192355Z",
          "shell.execute_reply.started": "2023-07-10T07:54:01.682269Z",
          "shell.execute_reply": "2023-07-10T07:54:02.190807Z"
        },
        "trusted": true,
        "id": "qLFiT9Xmz_qX",
        "outputId": "6e3220f5-327b-46e2-af89-f4c0fcbdb002"
      },
      "execution_count": null,
      "outputs": [
        {
          "execution_count": 61,
          "output_type": "execute_result",
          "data": {
            "text/plain": "<function matplotlib.pyplot.show(close=None, block=None)>"
          },
          "metadata": {}
        },
        {
          "output_type": "display_data",
          "data": {
            "text/plain": "<Figure size 1000x500 with 1 Axes>",
            "image/png": "[encoded data removed]"
          },
          "metadata": {}
        }
      ]
    },
    {
      "cell_type": "code",
      "source": [
        "from sklearn.metrics import silhouette_score\n",
        "print(\"Silhouette score :\",silhouette_score(RFMT, kmeans.labels_, metric='euclidean'))\n",
        "#By evaluating the Silhouette Score, you can assess the effectiveness of the K-means clustering in creating distinct and well-defined clusters based on the given feature set."
      ],
      "metadata": {
        "execution": {
          "iopub.status.busy": "2023-07-10T08:00:39.330462Z",
          "iopub.execute_input": "2023-07-10T08:00:39.330923Z",
          "iopub.status.idle": "2023-07-10T08:00:39.753358Z",
          "shell.execute_reply.started": "2023-07-10T08:00:39.330888Z",
          "shell.execute_reply": "2023-07-10T08:00:39.751978Z"
        },
        "trusted": true,
        "id": "B9hYWOYxz_qY",
        "outputId": "7c47fd00-dddc-4c08-cfea-d169e1cfe107"
      },
      "execution_count": null,
      "outputs": [
        {
          "name": "stdout",
          "text": "Silhouette score : 0.9019944616689637\n",
          "output_type": "stream"
        }
      ]
    },
    {
      "cell_type": "code",
      "source": [],
      "metadata": {
        "id": "ajsuDhKDz_qY"
      },
      "execution_count": null,
      "outputs": []
    }
  ]
}